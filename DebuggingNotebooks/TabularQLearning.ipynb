{
 "cells": [
  {
   "cell_type": "code",
   "execution_count": 1,
   "metadata": {},
   "outputs": [],
   "source": [
    "import numpy as np\n",
    "import scipy as sp\n",
    "import matplotlib.pyplot as plt\n",
    "from itertools import product\n",
    "\n",
    "%matplotlib inline"
   ]
  },
  {
   "cell_type": "code",
   "execution_count": 2,
   "metadata": {},
   "outputs": [],
   "source": [
    "# general setup\n",
    "\n",
    "# agent must move to match self position and target position\n",
    "\n",
    "# rewards are -1 for every time point"
   ]
  },
  {
   "cell_type": "code",
   "execution_count": 7,
   "metadata": {},
   "outputs": [],
   "source": [
    "# Q LEARNING\n",
    "\n",
    "ALPHA = .5 # update wait\n",
    "EPSILON=0.1 # epsilon - greedy exploration\n",
    "EPISODES = 10000 # num training episodes\n",
    "NPIXELX,NPIXELY = 10,10 # \n",
    "\n",
    "\n"
   ]
  },
  {
   "cell_type": "code",
   "execution_count": 8,
   "metadata": {},
   "outputs": [],
   "source": [
    "# define agent class\n",
    "class hand():\n",
    "    def __init__(self, npixely, npixelx):\n",
    "        self.hand_pos = [0,0]\n",
    "        self.targ_pos = [None,None]\n",
    "        self.npixelx = npixelx\n",
    "        self.npixely = npixely\n",
    "        self.wind = False\n",
    "        self.wind_vec=[0,0]\n",
    "        self._init_qfunc()\n",
    "        \n",
    "        self.actions = [[-1,0],\n",
    "                       [1,0],\n",
    "                       [0,-1],\n",
    "                       [0,1],\n",
    "                       [-1,-1],\n",
    "                       [1,-1],\n",
    "                       [-1,1],\n",
    "                       [1,1]]\n",
    "        \n",
    "    def _init_qfunc(self):\n",
    "        self.Q = {}\n",
    "        for hposy in range(self.npixelx):\n",
    "            for hposx in range(self.npixely):\n",
    "                self.Q[(hposy,hposx)]= np.random.randn(8)\n",
    "                \n",
    "#                 for tposy in range(self.npixelx):\n",
    "#                     for tposx in range(self.npixely):\n",
    "#                         self.Q[(hposy,hposx)][(tposy,tposx)]= np.random.randn(8)\n",
    "                        \n",
    "    def init_hand_pos(self,y,x):\n",
    "        self.hand_pos = [y,x]\n",
    "    def update_hand_pos(self,dy,dx):\n",
    "        self.hand_pos=[np.minimum(np.maximum(self.hand_pos[0]+dy,0),self.npixely-1),np.minimum(np.maximum(self.hand_pos[1]+dx,0),self.npixelx-1)]\n",
    "        \n",
    "    def init_targ_pos(self,y,x):\n",
    "        self.targ_pos=[y,x]\n",
    "                                \n",
    "   \n",
    "    def get_Q(self,hpos):\n",
    "        return self.Q[tuple(hpos)]\n",
    "\n",
    "    \n",
    "    \n",
    "                        \n",
    "\n"
   ]
  },
  {
   "cell_type": "code",
   "execution_count": 39,
   "metadata": {},
   "outputs": [],
   "source": [
    "# init agent\n",
    "h = hand(NPIXELY,NPIXELX)\n",
    "\n",
    "# init Q function np.random.randn(gridpos_agent x gridpos_target x # of actions available) or as dictionary with [state][action] keys\n"
   ]
  },
  {
   "cell_type": "code",
   "execution_count": 40,
   "metadata": {},
   "outputs": [
    {
     "name": "stdout",
     "output_type": "stream",
     "text": [
      "episode 0 0\n",
      "episode 1000 4\n",
      "episode 2000 5\n",
      "episode 3000 2\n",
      "episode 4000 3\n",
      "episode 5000 5\n",
      "episode 6000 5\n",
      "episode 7000 3\n",
      "episode 8000 6\n",
      "episode 9000 3\n"
     ]
    }
   ],
   "source": [
    "rewards = []\n",
    "counter = 0\n",
    "COUNTERS = []\n",
    "\n",
    "\n",
    "for ep in range(EPISODES):\n",
    "\n",
    "    # init state\n",
    "    h.init_hand_pos(np.random.randint(NPIXELY),np.random.randint(NPIXELX))\n",
    "    h.init_targ_pos(8,5)\n",
    "\n",
    "    #     define terminal state\n",
    "    if ep%1000 ==0:\n",
    "        print('episode',ep,counter)\n",
    "\n",
    "    counter = 0\n",
    "    while h.hand_pos != h.targ_pos:\n",
    "\n",
    "        # choose action using Q[state] epsilon greedy\n",
    "        if np.random.rand()<EPSILON:\n",
    "            a = np.random.randint(8)\n",
    "        else:\n",
    "            a= np.argmax(h.get_Q(h.hand_pos))\n",
    "\n",
    "    \n",
    "    #         print('a',ay,ax)\n",
    "        h_old = h.hand_pos[:]\n",
    "        action = h.actions[a]\n",
    "        h.update_hand_pos(action[0],action[1])\n",
    "        \n",
    "        \n",
    "        if h.hand_pos != h.targ_pos:\n",
    "            reward = -1\n",
    "            reward = -(h.hand_pos)\n",
    "        else:\n",
    "            reward = 0\n",
    "        rewards.append(reward)\n",
    "        h.Q[tuple(h_old)][a] += ALPHA*(reward + np.amax(h.get_Q(h.hand_pos)) - h.get_Q(h_old)[a])\n",
    "\n",
    "        counter+=1\n",
    "    COUNTERS.append(counter)\n",
    "\n",
    "    "
   ]
  },
  {
   "cell_type": "code",
   "execution_count": 41,
   "metadata": {},
   "outputs": [
    {
     "data": {
      "text/plain": [
       "[<matplotlib.lines.Line2D at 0x1cd1da30408>]"
      ]
     },
     "execution_count": 41,
     "metadata": {},
     "output_type": "execute_result"
    },
    {
     "data": {
      "image/png": "[encoded data removed]",
      "text/plain": [
       "<Figure size 432x288 with 1 Axes>"
      ]
     },
     "metadata": {
      "needs_background": "light"
     },
     "output_type": "display_data"
    }
   ],
   "source": [
    "f,ax = plt.subplots()\n",
    "# print(rewards)\n",
    "ax.plot(COUNTERS[:])"
   ]
  },
  {
   "cell_type": "code",
   "execution_count": 20,
   "metadata": {},
   "outputs": [],
   "source": [
    "for it in range(20):\n",
    "hand_pos = []\n",
    "h.init_hand_pos(0,5)\n",
    "hand_pos.append(h.hand_pos[:])\n",
    "while h.hand_pos != h.targ_pos:\n",
    "    # choose action using Q[state] epsilon greedy\n",
    "    a = np.argmax(h.get_Q(h.hand_pos))\n",
    "#     print(h.hand_pos)\n",
    "    h.update_hand_pos(*h.actions[a])\n",
    "    counter+=1\n",
    "    hand_pos.append(h.hand_pos[:])"
   ]
  },
  {
   "cell_type": "code",
   "execution_count": 22,
   "metadata": {},
   "outputs": [
    {
     "name": "stdout",
     "output_type": "stream",
     "text": [
      "[[0 5]\n",
      " [1 5]\n",
      " [2 5]\n",
      " [3 5]\n",
      " [4 5]\n",
      " [5 5]\n",
      " [6 5]\n",
      " [7 5]\n",
      " [8 5]]\n"
     ]
    },
    {
     "data": {
      "text/plain": [
       "[<matplotlib.lines.Line2D at 0x1cd1d8a1d08>]"
      ]
     },
     "execution_count": 22,
     "metadata": {},
     "output_type": "execute_result"
    },
    {
     "data": {
      "image/png": "[encoded data removed]",
      "text/plain": [
       "<Figure size 432x288 with 1 Axes>"
      ]
     },
     "metadata": {
      "needs_background": "light"
     },
     "output_type": "display_data"
    }
   ],
   "source": [
    "hand_pos = np.array(hand_pos)\n",
    "print(hand_pos)\n",
    "f,ax = plt.subplots()\n",
    "\n",
    "ax.plot(hand_pos[:,0],hand_pos[:,1])"
   ]
  },
  {
   "cell_type": "code",
   "execution_count": 32,
   "metadata": {},
   "outputs": [
    {
     "name": "stdout",
     "output_type": "stream",
     "text": [
      "episode 0 0\n",
      "episode 1000 8\n",
      "episode 2000 12\n",
      "episode 3000 8\n",
      "episode 4000 8\n",
      "episode 5000 8\n",
      "episode 6000 8\n",
      "episode 7000 8\n",
      "episode 8000 8\n",
      "episode 9000 10\n"
     ]
    }
   ],
   "source": [
    "h_wind = hand(NPIXELY,NPIXELX)\n",
    "rewards = []\n",
    "counter = 0\n",
    "COUNTERS = []\n",
    "\n",
    "\n",
    "for ep in range(EPISODES):\n",
    "\n",
    "    # init state\n",
    "    h_wind.init_hand_pos(0,5)\n",
    "    h_wind.init_targ_pos(8,5)\n",
    "\n",
    "    #     define terminal state\n",
    "    if ep%1000 ==0:\n",
    "        print('episode',ep,counter)\n",
    "\n",
    "    counter = 0\n",
    "    while h_wind.hand_pos != h_wind.targ_pos:\n",
    "\n",
    "        # choose action using Q[state] epsilon greedy\n",
    "        if np.random.rand()<EPSILON:\n",
    "            a = np.random.randint(8)\n",
    "        else:\n",
    "            a= np.argmax(h_wind.get_Q(h_wind.hand_pos))\n",
    "\n",
    "    \n",
    "    #         print('a',ay,ax)\n",
    "        h_old = h_wind.hand_pos[:]\n",
    "        action = h_wind.actions[a][:]\n",
    "        \n",
    "        # add wind - blows up between 3 and 5\n",
    "        if (h_wind.hand_pos[0]>=3) and (h_wind.hand_pos[0]<=5):\n",
    "            action[1]-=1\n",
    "#             print(action)\n",
    "        \n",
    "        \n",
    "        h_wind.update_hand_pos(action[0],action[1])\n",
    "        \n",
    "#         print(h_old,h_wind.hand_pos,action)\n",
    "        if h_wind.hand_pos != h_wind.targ_pos:\n",
    "            reward = -1\n",
    "        else:\n",
    "            reward = 0\n",
    "        rewards.append(reward)\n",
    "        h_wind.Q[tuple(h_old)][a] += ALPHA*(reward + np.amax(h_wind.get_Q(h_wind.hand_pos)) - h_wind.get_Q(h_old)[a])\n",
    "\n",
    "        counter+=1\n",
    "    COUNTERS.append(counter)"
   ]
  },
  {
   "cell_type": "code",
   "execution_count": 33,
   "metadata": {},
   "outputs": [
    {
     "data": {
      "text/plain": [
       "[<matplotlib.lines.Line2D at 0x1cd27b2ccc8>]"
      ]
     },
     "execution_count": 33,
     "metadata": {},
     "output_type": "execute_result"
    },
    {
     "data": {
      "image/png": "[encoded data removed]",
      "text/plain": [
       "<Figure size 432x288 with 1 Axes>"
      ]
     },
     "metadata": {
      "needs_background": "light"
     },
     "output_type": "display_data"
    }
   ],
   "source": [
    "f,ax = plt.subplots()\n",
    "ax.plot(COUNTERS)"
   ]
  },
  {
   "cell_type": "code",
   "execution_count": 34,
   "metadata": {},
   "outputs": [],
   "source": [
    "hand_pos = []\n",
    "h_wind.init_hand_pos(0,5)\n",
    "hand_pos.append(h_wind.hand_pos[:])\n",
    "while h_wind.hand_pos != h_wind.targ_pos:\n",
    "    # choose action using Q[state] epsilon greedy\n",
    "    a = np.argmax(h_wind.get_Q(h_wind.hand_pos))\n",
    "#     print(h.hand_pos)\n",
    "    action = h_wind.actions[a][:]\n",
    "        \n",
    "    # add wind - blows up between 3 and 5\n",
    "    if (h_wind.hand_pos[0]>=3) and (h_wind.hand_pos[0]<=5):\n",
    "        action[1]-=1\n",
    "    h_wind.update_hand_pos(action[0],action[1])\n",
    "    hand_pos.append(h_wind.hand_pos[:])"
   ]
  },
  {
   "cell_type": "code",
   "execution_count": 35,
   "metadata": {},
   "outputs": [
    {
     "name": "stdout",
     "output_type": "stream",
     "text": [
      "[[0 5]\n",
      " [1 5]\n",
      " [2 5]\n",
      " [3 5]\n",
      " [4 4]\n",
      " [5 3]\n",
      " [6 3]\n",
      " [7 4]\n",
      " [8 5]]\n"
     ]
    },
    {
     "data": {
      "text/plain": [
       "[<matplotlib.lines.Line2D at 0x1cd27b87648>]"
      ]
     },
     "execution_count": 35,
     "metadata": {},
     "output_type": "execute_result"
    },
    {
     "data": {
      "image/png": "[encoded data removed]",
      "text/plain": [
       "<Figure size 432x288 with 1 Axes>"
      ]
     },
     "metadata": {
      "needs_background": "light"
     },
     "output_type": "display_data"
    }
   ],
   "source": [
    "hand_pos = np.array(hand_pos)\n",
    "print(hand_pos)\n",
    "f,ax = plt.subplots()\n",
    "ax.plot(hand_pos[:,0],hand_pos[:,1])"
   ]
  },
  {
   "cell_type": "code",
   "execution_count": null,
   "metadata": {},
   "outputs": [],
   "source": []
  },
  {
   "cell_type": "code",
   "execution_count": null,
   "metadata": {},
   "outputs": [],
   "source": []
  }
 ],
 "metadata": {
  "kernelspec": {
   "display_name": "Python 3",
   "language": "python",
   "name": "python3"
  },
  "language_info": {
   "codemirror_mode": {
    "name": "ipython",
    "version": 3
   },
   "file_extension": ".py",
   "mimetype": "text/x-python",
   "name": "python",
   "nbconvert_exporter": "python",
   "pygments_lexer": "ipython3",
   "version": "3.7.4"
  }
 },
 "nbformat": 4,
 "nbformat_minor": 4
}
