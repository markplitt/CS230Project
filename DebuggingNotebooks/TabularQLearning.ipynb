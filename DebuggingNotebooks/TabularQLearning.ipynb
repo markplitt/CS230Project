{
 "cells": [
  {
   "cell_type": "code",
   "execution_count": 117,
   "metadata": {},
   "outputs": [],
   "source": [
    "import numpy as np\n",
    "import scipy as sp\n",
    "import matplotlib.pyplot as plt\n",
    "from itertools import product\n",
    "\n",
    "%matplotlib inline\n",
    "\n"
   ]
  },
  {
   "cell_type": "code",
   "execution_count": 2,
   "metadata": {},
   "outputs": [],
   "source": [
    "# general setup\n",
    "\n",
    "# agent must move to match self position and target position\n",
    "\n",
    "# rewards are -1 for every time point"
   ]
  },
  {
   "cell_type": "code",
   "execution_count": 101,
   "metadata": {},
   "outputs": [],
   "source": [
    "# Q LEARNING\n",
    "\n",
    "ALPHA = .5 # update wait\n",
    "EPSILON=0.3 # epsilon - greedy exploration\n",
    "EPISODES = 10000 # num training episodes\n",
    "NPIXELX,NPIXELY = 10,10 # \n",
    "\n",
    "\n"
   ]
  },
  {
   "cell_type": "code",
   "execution_count": 102,
   "metadata": {},
   "outputs": [],
   "source": [
    "# define agent class\n",
    "class hand():\n",
    "    def __init__(self, npixely, npixelx):\n",
    "        self.hand_pos = [0,0]\n",
    "        self.targ_pos = [None,None]\n",
    "        self.npixelx = npixelx\n",
    "        self.npixely = npixely\n",
    "        self.wind = False\n",
    "        self.wind_vec=[0,0]\n",
    "        self._init_qfunc()\n",
    "        \n",
    "        self.actions = [[-1,0],\n",
    "                       [1,0],\n",
    "                       [0,-1],\n",
    "                       [0,1],\n",
    "                       [-1,-1],\n",
    "                       [1,-1],\n",
    "                       [-1,1],\n",
    "                       [1,1]]\n",
    "        \n",
    "    def _init_qfunc(self):\n",
    "        self.Q = {}\n",
    "        for hposy in range(self.npixelx):\n",
    "            for hposx in range(self.npixely):\n",
    "                self.Q[(hposy,hposx)]= np.random.randn(8)\n",
    "                \n",
    "#                 for tposy in range(self.npixelx):\n",
    "#                     for tposx in range(self.npixely):\n",
    "#                         self.Q[(hposy,hposx)][(tposy,tposx)]= np.random.randn(8)\n",
    "                        \n",
    "    def init_hand_pos(self,y,x):\n",
    "        self.hand_pos = [y,x]\n",
    "    def update_hand_pos(self,dy,dx):\n",
    "        self.hand_pos=[np.minimum(np.maximum(self.hand_pos[0]+dy,0),self.npixely-1),np.minimum(np.maximum(self.hand_pos[1]+dx,0),self.npixelx-1)]\n",
    "        \n",
    "    def init_targ_pos(self,y,x):\n",
    "        self.targ_pos=[y,x]\n",
    "                                \n",
    "   \n",
    "    def get_Q(self,hpos):\n",
    "        return self.Q[tuple(hpos)]\n",
    "\n",
    "    \n",
    "    \n",
    "                        \n",
    "\n"
   ]
  },
  {
   "cell_type": "code",
   "execution_count": 103,
   "metadata": {},
   "outputs": [],
   "source": [
    "# init agent\n",
    "h = hand(NPIXELY,NPIXELX)\n",
    "\n",
    "# init Q function np.random.randn(gridpos_agent x gridpos_target x # of actions available) or as dictionary with [state][action] keys\n"
   ]
  },
  {
   "cell_type": "code",
   "execution_count": 105,
   "metadata": {},
   "outputs": [
    {
     "name": "stdout",
     "output_type": "stream",
     "text": [
      "episode 0 0\n",
      "episode 1000 17\n",
      "episode 2000 5\n",
      "episode 3000 12\n",
      "episode 4000 11\n",
      "episode 5000 3\n",
      "episode 6000 1\n",
      "episode 7000 4\n",
      "episode 8000 8\n",
      "episode 9000 10\n"
     ]
    }
   ],
   "source": [
    "rewards = []\n",
    "counter = 0\n",
    "COUNTERS = []\n",
    "\n",
    "\n",
    "for ep in range(EPISODES):\n",
    "\n",
    "    # init state\n",
    "    h.init_hand_pos(np.random.randint(NPIXELY),np.random.randint(NPIXELX))\n",
    "    h.init_targ_pos(8,5)\n",
    "\n",
    "    #     define terminal state\n",
    "    if ep%1000 ==0:\n",
    "        print('episode',ep,counter)\n",
    "\n",
    "    counter = 0\n",
    "    while h.hand_pos != h.targ_pos:\n",
    "\n",
    "        # choose action using Q[state] epsilon greedy\n",
    "        if np.random.rand()<EPSILON:\n",
    "            a = np.random.randint(8)\n",
    "        else:\n",
    "            a= np.argmax(h.get_Q(h.hand_pos))\n",
    "\n",
    "    \n",
    "    #         print('a',ay,ax)\n",
    "        h_old = h.hand_pos[:]\n",
    "        action = h.actions[a]\n",
    "        h.update_hand_pos(action[0],action[1])\n",
    "        \n",
    "        \n",
    "        if h.hand_pos != h.targ_pos:\n",
    "            reward = -1\n",
    "#             reward = -(h.hand_pos)\n",
    "        else:\n",
    "            reward = 0\n",
    "        rewards.append(reward)\n",
    "        h.Q[tuple(h_old)][a] += ALPHA*(reward + np.amax(h.get_Q(h.hand_pos)) - h.get_Q(h_old)[a])\n",
    "\n",
    "        counter+=1\n",
    "    COUNTERS.append(counter)\n",
    "\n",
    "    "
   ]
  },
  {
   "cell_type": "code",
   "execution_count": 106,
   "metadata": {},
   "outputs": [
    {
     "data": {
      "text/plain": [
       "[<matplotlib.lines.Line2D at 0x1cd20238888>]"
      ]
     },
     "execution_count": 106,
     "metadata": {},
     "output_type": "execute_result"
    },
    {
     "data": {
      "image/png": "[encoded data removed]",
      "text/plain": [
       "<Figure size 432x288 with 1 Axes>"
      ]
     },
     "metadata": {
      "needs_background": "light"
     },
     "output_type": "display_data"
    }
   ],
   "source": [
    "f,ax = plt.subplots()\n",
    "# print(rewards)\n",
    "ax.plot(COUNTERS[:])"
   ]
  },
  {
   "cell_type": "code",
   "execution_count": 107,
   "metadata": {},
   "outputs": [],
   "source": [
    "hand_pos = []\n",
    "for it in range(20):\n",
    "    hand_pos.append([]) \n",
    "    h.init_hand_pos(np.random.randint(NPIXELY),np.random.randint(NPIXELX))\n",
    "    hand_pos[-1].append([*h.hand_pos])\n",
    "\n",
    "    while h.hand_pos != h.targ_pos:\n",
    "        # choose action using Q[state] epsilon greedy\n",
    "        a = np.argmax(h.get_Q(h.hand_pos))\n",
    "    #     print(h.hand_pos)\n",
    "        h.update_hand_pos(*h.actions[a])\n",
    "        counter+=1\n",
    "        hand_pos[-1].append([*h.hand_pos])"
   ]
  },
  {
   "cell_type": "code",
   "execution_count": 108,
   "metadata": {},
   "outputs": [
    {
     "name": "stdout",
     "output_type": "stream",
     "text": [
      "odict_keys(['left', 'right', 'bottom', 'top'])\n"
     ]
    },
    {
     "data": {
      "image/png": "[encoded data removed]",
      "text/plain": [
       "<Figure size 432x288 with 1 Axes>"
      ]
     },
     "metadata": {},
     "output_type": "display_data"
    }
   ],
   "source": [
    "f,ax = plt.subplots()\n",
    "im = np.zeros((NPIXELY,NPIXELX))\n",
    "im[h.targ_pos[0],h.targ_pos[1]] = 1\n",
    "ax.imshow(im,cmap='Greys')\n",
    "\n",
    "# V  = np.zeros((NPIXELY,NPIXELX))\n",
    "# for r in range(NPIXELY):\n",
    "#     for c in range(NPIXELX):\n",
    "#         V[r,c] = h.get_Q([r,c]).sum()\n",
    "# ax.imshow(V,cmap='viridis')\n",
    "# ax.scatter([h.targ_pos[1]],[h.targ_pos[0]],color='red',s=1000)\n",
    "        \n",
    "for it in range(len(hand_pos)):\n",
    "    \n",
    "    _hpos = np.array(hand_pos[it])\n",
    "    _hpos = _hpos+.1*np.random.randn(1,2)\n",
    "    ax.plot(_hpos[:,1],_hpos[:,0],color='blue')\n",
    "    \n",
    "ax.set_xticks([])\n",
    "ax.set_yticks([])\n",
    "print(ax.spines.keys())\n",
    "for k in ax.spines:\n",
    "    ax.spines[k].set_visible(False)\n",
    "ax.set_title(\"Example Trajectories\")\n",
    "f.savefig(\"tabularQLearningTrajectories.pdf\",format='pdf')\n",
    "# ax.spines['top'].set_visible(False)\n",
    "\n",
    "# ax.plot(hand_pos[:,0],hand_pos[:,1])"
   ]
  },
  {
   "cell_type": "code",
   "execution_count": 109,
   "metadata": {},
   "outputs": [
    {
     "name": "stdout",
     "output_type": "stream",
     "text": [
      "episode 0 0\n",
      "episode 1000 3\n",
      "episode 2000 16\n",
      "episode 3000 3\n",
      "episode 4000 6\n",
      "episode 5000 9\n",
      "episode 6000 3\n",
      "episode 7000 6\n",
      "episode 8000 2\n",
      "episode 9000 3\n",
      "episode 10000 2\n",
      "episode 11000 20\n",
      "episode 12000 4\n",
      "episode 13000 3\n",
      "episode 14000 3\n",
      "episode 15000 4\n",
      "episode 16000 4\n",
      "episode 17000 15\n",
      "episode 18000 0\n",
      "episode 19000 17\n",
      "episode 20000 11\n",
      "episode 21000 8\n",
      "episode 22000 6\n",
      "episode 23000 9\n",
      "episode 24000 2\n",
      "episode 25000 7\n",
      "episode 26000 2\n",
      "episode 27000 8\n",
      "episode 28000 6\n",
      "episode 29000 10\n",
      "episode 30000 4\n",
      "episode 31000 5\n",
      "episode 32000 5\n",
      "episode 33000 23\n",
      "episode 34000 23\n",
      "episode 35000 5\n",
      "episode 36000 15\n",
      "episode 37000 1\n",
      "episode 38000 5\n",
      "episode 39000 20\n",
      "episode 40000 5\n",
      "episode 41000 19\n",
      "episode 42000 3\n",
      "episode 43000 3\n",
      "episode 44000 17\n",
      "episode 45000 3\n",
      "episode 46000 6\n",
      "episode 47000 4\n",
      "episode 48000 6\n",
      "episode 49000 7\n",
      "episode 50000 4\n",
      "episode 51000 5\n",
      "episode 52000 2\n",
      "episode 53000 11\n",
      "episode 54000 10\n",
      "episode 55000 4\n",
      "episode 56000 6\n",
      "episode 57000 23\n",
      "episode 58000 15\n",
      "episode 59000 6\n",
      "episode 60000 7\n",
      "episode 61000 7\n",
      "episode 62000 11\n",
      "episode 63000 2\n",
      "episode 64000 8\n",
      "episode 65000 8\n",
      "episode 66000 11\n",
      "episode 67000 7\n",
      "episode 68000 14\n",
      "episode 69000 7\n",
      "episode 70000 17\n",
      "episode 71000 8\n",
      "episode 72000 16\n",
      "episode 73000 2\n",
      "episode 74000 4\n",
      "episode 75000 5\n",
      "episode 76000 4\n",
      "episode 77000 5\n",
      "episode 78000 2\n",
      "episode 79000 2\n",
      "episode 80000 4\n",
      "episode 81000 17\n",
      "episode 82000 5\n",
      "episode 83000 29\n",
      "episode 84000 8\n",
      "episode 85000 4\n",
      "episode 86000 9\n",
      "episode 87000 10\n",
      "episode 88000 10\n",
      "episode 89000 10\n",
      "episode 90000 6\n",
      "episode 91000 10\n",
      "episode 92000 13\n",
      "episode 93000 4\n",
      "episode 94000 21\n",
      "episode 95000 7\n",
      "episode 96000 24\n",
      "episode 97000 4\n",
      "episode 98000 3\n",
      "episode 99000 5\n"
     ]
    }
   ],
   "source": [
    "h_wind = hand(NPIXELY,NPIXELX)\n",
    "rewards = []\n",
    "counter = 0\n",
    "COUNTERS = []\n",
    "\n",
    "\n",
    "for ep in range(EPISODES*10):\n",
    "\n",
    "    # init state\n",
    "    h_wind.init_hand_pos(np.random.randint(NPIXELY),np.random.randint(NPIXELX))\n",
    "    h_wind.init_targ_pos(8,5)\n",
    "\n",
    "    #     define terminal state\n",
    "    if ep%1000 ==0:\n",
    "        print('episode',ep,counter)\n",
    "\n",
    "    counter = 0\n",
    "    while h_wind.hand_pos != h_wind.targ_pos:\n",
    "\n",
    "        # choose action using Q[state] epsilon greedy\n",
    "        if np.random.rand()<EPSILON:\n",
    "            a = np.random.randint(8)\n",
    "        else:\n",
    "            a= np.argmax(h_wind.get_Q(h_wind.hand_pos))\n",
    "\n",
    "    \n",
    "    #         print('a',ay,ax)\n",
    "        h_old = h_wind.hand_pos[:]\n",
    "        action = h_wind.actions[a][:]\n",
    "        \n",
    "        # add wind - blows up between 3 and 5\n",
    "        if (h_wind.hand_pos[0]>=2) and (h_wind.hand_pos[0]<=6):\n",
    "            action[1]-=1\n",
    "#             print(action)\n",
    "        \n",
    "        \n",
    "        h_wind.update_hand_pos(action[0],action[1])\n",
    "        \n",
    "#         print(h_old,h_wind.hand_pos,action)\n",
    "        if h_wind.hand_pos != h_wind.targ_pos:\n",
    "            reward = -1\n",
    "        else:\n",
    "            reward = 0\n",
    "        rewards.append(reward)\n",
    "        h_wind.Q[tuple(h_old)][a] += ALPHA*(reward + np.amax(h_wind.get_Q(h_wind.hand_pos)) - h_wind.get_Q(h_old)[a])\n",
    "\n",
    "        counter+=1\n",
    "    COUNTERS.append(counter)"
   ]
  },
  {
   "cell_type": "code",
   "execution_count": 110,
   "metadata": {},
   "outputs": [
    {
     "data": {
      "text/plain": [
       "[<matplotlib.lines.Line2D at 0x1cd203a56c8>]"
      ]
     },
     "execution_count": 110,
     "metadata": {},
     "output_type": "execute_result"
    },
    {
     "data": {
      "image/png": "[encoded data removed]",
      "text/plain": [
       "<Figure size 432x288 with 1 Axes>"
      ]
     },
     "metadata": {
      "needs_background": "light"
     },
     "output_type": "display_data"
    }
   ],
   "source": [
    "f,ax = plt.subplots()\n",
    "ax.plot(COUNTERS)"
   ]
  },
  {
   "cell_type": "code",
   "execution_count": 115,
   "metadata": {},
   "outputs": [],
   "source": [
    "hand_pos = []\n",
    "for it in range(20):\n",
    "    hand_pos.append([]) \n",
    "    h_wind.init_hand_pos(np.random.randint(NPIXELY),np.random.randint(NPIXELX))\n",
    "    hand_pos[-1].append([*h_wind.hand_pos])\n",
    "\n",
    "    while h_wind.hand_pos != h.targ_pos:\n",
    "        # choose action using Q[state] epsilon greedy\n",
    "        a = np.argmax(h_wind.get_Q(h_wind.hand_pos))\n",
    "    #     print(h.hand_pos)\n",
    "        h_wind.update_hand_pos(*h_wind.actions[a])\n",
    "        counter+=1\n",
    "        hand_pos[-1].append([*h_wind.hand_pos])"
   ]
  },
  {
   "cell_type": "code",
   "execution_count": 116,
   "metadata": {},
   "outputs": [
    {
     "name": "stdout",
     "output_type": "stream",
     "text": [
      "odict_keys(['left', 'right', 'bottom', 'top'])\n"
     ]
    },
    {
     "data": {
      "image/png": "[encoded data removed]",
      "text/plain": [
       "<Figure size 432x288 with 1 Axes>"
      ]
     },
     "metadata": {},
     "output_type": "display_data"
    }
   ],
   "source": [
    "f,ax = plt.subplots()\n",
    "im = np.zeros((NPIXELY,NPIXELX))\n",
    "im[h_wind.targ_pos[0],h_wind.targ_pos[1]] = 1\n",
    "ax.imshow(im,cmap='Greys')\n",
    "\n",
    "ax.fill_between([0,10],[2,2],[6,6],color='black',alpha=.3)\n",
    "for it in range(len(hand_pos)):\n",
    "    \n",
    "    _hpos = np.array(hand_pos[it])\n",
    "    _hpos = _hpos+.1*np.random.randn(1,2)\n",
    "    ax.plot(_hpos[:,1],_hpos[:,0],color='blue')\n",
    "\n",
    "    \n",
    "ax.set_xticks([])\n",
    "ax.set_yticks([])\n",
    "print(ax.spines.keys())\n",
    "for k in ax.spines:\n",
    "    ax.spines[k].set_visible(False)\n",
    "ax.set_title(\"Example Trajectories w/ wind\")\n",
    "f.savefig(\"tabularQLearningTrajectories_wind.pdf\",format='pdf')"
   ]
  },
  {
   "cell_type": "code",
   "execution_count": null,
   "metadata": {},
   "outputs": [],
   "source": []
  },
  {
   "cell_type": "code",
   "execution_count": null,
   "metadata": {},
   "outputs": [],
   "source": []
  }
 ],
 "metadata": {
  "kernelspec": {
   "display_name": "Python 3",
   "language": "python",
   "name": "python3"
  },
  "language_info": {
   "codemirror_mode": {
    "name": "ipython",
    "version": 3
   },
   "file_extension": ".py",
   "mimetype": "text/x-python",
   "name": "python",
   "nbconvert_exporter": "python",
   "pygments_lexer": "ipython3",
   "version": "3.7.4"
  }
 },
 "nbformat": 4,
 "nbformat_minor": 4
}
