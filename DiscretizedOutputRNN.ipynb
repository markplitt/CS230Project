{
 "cells": [
  {
   "cell_type": "code",
   "execution_count": 1,
   "metadata": {},
   "outputs": [],
   "source": [
    "import math\n",
    "import os\n",
    "import numpy as np\n",
    "import matplotlib.pyplot as plt\n",
    "%matplotlib inline\n",
    "\n",
    "import torch\n",
    "import torch.nn as nn\n",
    "import torch.nn.functional as F"
   ]
  },
  {
   "cell_type": "code",
   "execution_count": 2,
   "metadata": {},
   "outputs": [],
   "source": [
    "device = torch.device(\"cuda:0\" if torch.cuda.is_available() else \"cpu\")"
   ]
  },
  {
   "cell_type": "code",
   "execution_count": 3,
   "metadata": {},
   "outputs": [],
   "source": [
    "def createCenterOutTargets(r, N_TARGETS):\n",
    "    target = torch.empty(N_TARGETS, 2)\n",
    "    for i in range(N_TARGETS):\n",
    "        target[i,0] = r * np.cos(np.pi*2*i/N_TARGETS)\n",
    "        target[i,1] = r * np.sin(np.pi*2*i/N_TARGETS)\n",
    "    return target"
   ]
  },
  {
   "cell_type": "code",
   "execution_count": 4,
   "metadata": {},
   "outputs": [],
   "source": [
    "# # Hyperparameters\n",
    "SCREEN_SIZE = 20\n",
    "PADDING = 2\n",
    "OUT_SIZE = 2\n",
    "N_NEURONS = 128\n",
    "\n",
    "\n",
    "SEQLEN = 500\n",
    "N_TRAIN_EPOCHS = 21\n",
    "N_TRAIN_STEPS = 2500\n",
    "PRINT_EVERY=100\n",
    "\n",
    "\n",
    "LEARNING_RATE = 1e-6\n",
    "\n",
    "ACC_PENALTY = 5\n",
    "\n",
    "# Define target locations for the pinball task and for the centerout task\n",
    "TARGET_SEQUENCE = PADDING + np.random.rand(20, 2) * (SCREEN_SIZE - 2 * PADDING)\n",
    "RADIUS = 5\n",
    "N_TARGETS_CO = 8\n",
    "TARGET_SEQUENCE_CO = SCREEN_SIZE/2 + createCenterOutTargets(RADIUS, N_TARGETS_CO)"
   ]
  },
  {
   "cell_type": "code",
   "execution_count": 5,
   "metadata": {},
   "outputs": [
    {
     "name": "stdout",
     "output_type": "stream",
     "text": [
      "[[ 9.72123812 11.01738803]\n",
      " [13.23456346 14.96525166]\n",
      " [ 7.58318466  2.63196929]\n",
      " [12.58298483  9.32338528]\n",
      " [13.46596095  5.38089465]\n",
      " [16.79378581  5.1834699 ]\n",
      " [ 2.1849935  12.65912928]\n",
      " [ 4.89187368 10.78991995]\n",
      " [ 9.00162588  3.92033004]\n",
      " [ 7.8286059  10.0144604 ]\n",
      " [ 4.33634684 13.36897487]\n",
      " [13.73044377  8.23271231]\n",
      " [12.03270537 17.35386779]\n",
      " [ 6.04831019 17.12176525]\n",
      " [17.0407876  16.80497714]\n",
      " [14.50560585  8.99686474]\n",
      " [ 2.9176749  13.60939475]\n",
      " [ 5.5554299   9.30071717]\n",
      " [ 3.63680363 16.60516892]\n",
      " [11.5589122  17.00153975]]\n"
     ]
    }
   ],
   "source": [
    "print(TARGET_SEQUENCE)"
   ]
  },
  {
   "cell_type": "code",
   "execution_count": null,
   "metadata": {},
   "outputs": [],
   "source": []
  }
 ],
 "metadata": {
  "kernelspec": {
   "display_name": "Python 3",
   "language": "python",
   "name": "python3"
  },
  "language_info": {
   "codemirror_mode": {
    "name": "ipython",
    "version": 3
   },
   "file_extension": ".py",
   "mimetype": "text/x-python",
   "name": "python",
   "nbconvert_exporter": "python",
   "pygments_lexer": "ipython3",
   "version": "3.7.4"
  }
 },
 "nbformat": 4,
 "nbformat_minor": 4
}
