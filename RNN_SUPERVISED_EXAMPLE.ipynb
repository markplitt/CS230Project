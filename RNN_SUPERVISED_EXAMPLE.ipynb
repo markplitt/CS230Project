{
 "cells": [
  {
   "cell_type": "code",
   "execution_count": 1,
   "metadata": {},
   "outputs": [],
   "source": [
    "import run_supervised_models as rsm\n",
    "%load_ext autoreload\n",
    "%autoreload 2"
   ]
  },
  {
   "cell_type": "code",
   "execution_count": 2,
   "metadata": {},
   "outputs": [
    {
     "name": "stdout",
     "output_type": "stream",
     "text": [
      "epoch 0 loss 176.06948852539062\n",
      "epoch 10 loss 186.97622680664062\n",
      "epoch 20 loss 188.44480895996094\n",
      "epoch 30 loss 181.548828125\n",
      "epoch 40 loss 116.53082275390625\n",
      "epoch 50 loss 87.1361312866211\n",
      "epoch 60 loss 64.07049560546875\n",
      "epoch 70 loss 80.74263000488281\n",
      "epoch 80 loss 73.62779998779297\n",
      "epoch 90 loss 76.83203125\n",
      "epoch 0 loss 2726.746337890625\n",
      "epoch 10 loss 2624.761962890625\n",
      "epoch 20 loss 2870.449462890625\n",
      "epoch 30 loss 2604.6328125\n",
      "epoch 40 loss 1870.35009765625\n",
      "epoch 50 loss 1327.82421875\n",
      "epoch 60 loss 1055.2138671875\n",
      "epoch 70 loss 719.2958984375\n",
      "epoch 80 loss 762.1476440429688\n",
      "epoch 90 loss 985.6337280273438\n"
     ]
    }
   ],
   "source": [
    "# initialize baseline RNN model\n",
    "bm = rsm.baseline_model()\n",
    "# train model\n",
    "bm.train(100)\n",
    "#test on novel stimuli\n",
    "X,Y,YHAT, CURL  = bm.test_batch(100)\n",
    "\n",
    "# change curl field\n",
    "bm.data_gen.curl=True\n",
    "#retrain\n",
    "bm.train(100)\n",
    "# test\n",
    "X,Y,YHAT, CURL = bm.test_batch(100)\n",
    "\n",
    "# change curl field back\n",
    "bm.data_gen.curl = False\n",
    "# ...\n"
   ]
  },
  {
   "cell_type": "code",
   "execution_count": 3,
   "metadata": {},
   "outputs": [
    {
     "name": "stdout",
     "output_type": "stream",
     "text": [
      "epoch 0 loss 433.2291259765625\n",
      "epoch 10 loss 405.33905029296875\n",
      "epoch 20 loss 196.7400360107422\n",
      "epoch 30 loss 122.4100112915039\n",
      "epoch 40 loss 163.78353881835938\n",
      "epoch 50 loss 152.64889526367188\n",
      "epoch 60 loss 150.14749145507812\n",
      "epoch 70 loss 145.8845977783203\n",
      "epoch 80 loss 128.2032012939453\n",
      "epoch 90 loss 135.81259155273438\n",
      "epoch 0 loss 6195.8583984375\n",
      "epoch 10 loss 1563.50634765625\n",
      "epoch 20 loss 452.7039489746094\n",
      "epoch 30 loss 275.43939208984375\n",
      "epoch 40 loss 194.302978515625\n",
      "epoch 50 loss 181.40708923339844\n",
      "epoch 60 loss 164.55227661132812\n",
      "epoch 70 loss 160.93016052246094\n",
      "epoch 80 loss 150.8234405517578\n",
      "epoch 90 loss 151.767578125\n"
     ]
    }
   ],
   "source": [
    "# initialize recursive RNN model\n",
    "rm = rsm.recursive_model()\n",
    "# train\n",
    "rm.train(100)\n",
    "#test \n",
    "X,Y,YHAT = rm.test_batch(100) # curl forces not returned because they're calculated in real time based on current cursor position\n",
    "\n",
    "# change curl field\n",
    "rm.data_gen.curl=True\n",
    "# retrain\n",
    "rm.train(100)\n",
    "# test\n",
    "X,Y,YHAT = rm.test_batch(100)\n",
    "\n",
    "# turn curl off\n",
    "rm.data_gen.curl = False\n",
    "# ...\n"
   ]
  },
  {
   "cell_type": "code",
   "execution_count": 5,
   "metadata": {},
   "outputs": [
    {
     "name": "stdout",
     "output_type": "stream",
     "text": [
      "epoch 0 loss 1786.68310546875\n",
      "epoch 10 loss 888.8303833007812\n",
      "epoch 20 loss 454.76812744140625\n",
      "epoch 30 loss 386.9619445800781\n",
      "epoch 40 loss 247.32891845703125\n",
      "epoch 50 loss 203.4062042236328\n",
      "epoch 60 loss 151.19163513183594\n",
      "epoch 70 loss 139.38819885253906\n",
      "epoch 80 loss 124.33040618896484\n",
      "epoch 90 loss 133.02476501464844\n"
     ]
    }
   ],
   "source": [
    "rm = rsm.recursive_model(curl=True)\n",
    "rm.data_gen.curl_xmag=2\n",
    "rm.train(100)"
   ]
  },
  {
   "cell_type": "code",
   "execution_count": null,
   "metadata": {},
   "outputs": [],
   "source": []
  }
 ],
 "metadata": {
  "kernelspec": {
   "display_name": "Python 3",
   "language": "python",
   "name": "python3"
  },
  "language_info": {
   "codemirror_mode": {
    "name": "ipython",
    "version": 3
   },
   "file_extension": ".py",
   "mimetype": "text/x-python",
   "name": "python",
   "nbconvert_exporter": "python",
   "pygments_lexer": "ipython3",
   "version": "3.7.4"
  }
 },
 "nbformat": 4,
 "nbformat_minor": 4
}
