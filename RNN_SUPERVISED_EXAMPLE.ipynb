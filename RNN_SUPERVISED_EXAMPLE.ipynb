{
 "cells": [
  {
   "cell_type": "code",
   "execution_count": 1,
   "metadata": {},
   "outputs": [],
   "source": [
    "import run_supervised_models as rsm\n",
    "%load_ext autoreload\n",
    "%autoreload 2"
   ]
  },
  {
   "cell_type": "code",
   "execution_count": 19,
   "metadata": {},
   "outputs": [],
   "source": [
    "# initialize baseline RNN model\n",
    "bm = rsm.baseline_model()\n",
    "# train model\n",
    "bm.train(100)\n",
    "#test on novel stimuli\n",
    "X,Y,YHAT, CURL  = bm.test_batch(100)\n",
    "\n",
    "# change curl field\n",
    "bm.data_gen.curl=True\n",
    "#retrain\n",
    "bm.train(100)\n",
    "# test\n",
    "X,Y,YHAT, CURL = bm.test_batch(100)\n",
    "\n",
    "# change curl field back\n",
    "bm.data_gen.curl = False\n",
    "# ...\n"
   ]
  },
  {
   "cell_type": "code",
   "execution_count": 24,
   "metadata": {},
   "outputs": [],
   "source": [
    "# initialize recursive RNN model\n",
    "rm = rsm.recursive_model()\n",
    "# train\n",
    "rm.train(100)\n",
    "#test \n",
    "X,Y,YHAT = rm.test_batch(100) # curl forces not returned because they're calculated in real time based on current cursor position\n",
    "\n",
    "# change curl field\n",
    "rm.data_gen.curl=True\n",
    "# retrain\n",
    "rm.train(100)\n",
    "# test\n",
    "X,Y,YHAT = rm.test_batch(100)\n",
    "\n",
    "# turn curl off\n",
    "rm.data_gen.curl = False\n",
    "# ...\n"
   ]
  }
 ],
 "metadata": {
  "kernelspec": {
   "display_name": "Python 3",
   "language": "python",
   "name": "python3"
  },
  "language_info": {
   "codemirror_mode": {
    "name": "ipython",
    "version": 3
   },
   "file_extension": ".py",
   "mimetype": "text/x-python",
   "name": "python",
   "nbconvert_exporter": "python",
   "pygments_lexer": "ipython3",
   "version": "3.7.4"
  }
 },
 "nbformat": 4,
 "nbformat_minor": 4
}
