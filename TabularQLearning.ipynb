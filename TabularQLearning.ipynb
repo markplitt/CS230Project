{
 "cells": [
  {
   "cell_type": "code",
   "execution_count": 2,
   "metadata": {},
   "outputs": [],
   "source": [
    "import numpy as np\n",
    "import scipy as sp\n",
    "import matplotlib.pyplot as plt\n",
    "from itertools import product\n",
    "from IPython.display import clear_output\n",
    "import os\n",
    "\n",
    "%matplotlib inline\n",
    "\n"
   ]
  },
  {
   "cell_type": "markdown",
   "metadata": {},
   "source": [
    "# Train tabular Q-learning agent in a gridworld environment"
   ]
  },
  {
   "cell_type": "code",
   "execution_count": 3,
   "metadata": {},
   "outputs": [],
   "source": [
    "# Q LEARNING parameters\n",
    "ALPHA = .5 # update weight\n",
    "EPSILON=0.3 # epsilon - greedy exploration\n",
    "EPISODES = 10000 # num training episodes\n",
    "NPIXELX,NPIXELY = 10,10 # size of environment\n",
    "\n",
    "figdir = \"G:\\\\My Drive\\\\CS230Project\\\\milestone2_figs\""
   ]
  },
  {
   "cell_type": "code",
   "execution_count": 4,
   "metadata": {},
   "outputs": [],
   "source": [
    "# define agent class\n",
    "class hand():\n",
    "    '''\n",
    "    agent control class\n",
    "    '''\n",
    "    def __init__(self, npixely, npixelx):\n",
    "        \n",
    "        self.hand_pos = [0,0] # hand position\n",
    "        self.targ_pos = [None,None] # target position\n",
    "        self.npixelx = npixelx # size of environment in x direction\n",
    "        self.npixely = npixely # size of environment in y direction\n",
    "        \n",
    "        self._init_qfunc() # initialize Q function\n",
    "        \n",
    "        self.actions = [[-1,0], # action space x and y moves \n",
    "                       [1,0],\n",
    "                       [0,-1],\n",
    "                       [0,1],\n",
    "                       [-1,-1],\n",
    "                       [1,-1],\n",
    "                       [-1,1],\n",
    "                       [1,1]]\n",
    "        \n",
    "    def _init_qfunc(self):\n",
    "        '''\n",
    "        initialize Q function randomly\n",
    "        '''\n",
    "        self.Q = {}\n",
    "        for hposy in range(self.npixelx): # for each state\n",
    "            for hposx in range(self.npixely):\n",
    "                self.Q[(hposy,hposx)]= np.random.randn(8) # init Q\n",
    "                \n",
    "                        \n",
    "    def init_hand_pos(self,y,x):\n",
    "        '''\n",
    "        place hand\n",
    "        ---------\n",
    "        Parameters\n",
    "        ---------\n",
    "        y: int (0,npixely-1)\n",
    "            initial y position\n",
    "        x: int (0,npixelx-1)\n",
    "            initial x position\n",
    "        '''\n",
    "        self.hand_pos = [y,x]\n",
    "    def update_hand_pos(self,dy,dx):\n",
    "        '''\n",
    "        move hand by [dy, dx] pixels\n",
    "        ----------\n",
    "        Parameters\n",
    "        ----------\n",
    "        dy : amount of pixels to move in y direction\n",
    "        dx : amount of pixels to move in x direction\n",
    "        '''\n",
    "        self.hand_pos=[np.clip(self.hand_pos[0]+dy,0, self.npixely-1),np.clip(self.hand_pos[1]+dx,0,self.npixelx-1)]\n",
    "        \n",
    "    def init_targ_pos(self,y,x):\n",
    "        '''\n",
    "        place target\n",
    "        '''\n",
    "        self.targ_pos=[y,x]\n",
    "                                \n",
    "   \n",
    "    def get_Q(self,hpos):\n",
    "        '''\n",
    "        return Q value for state\n",
    "        '''\n",
    "        return self.Q[tuple(hpos)]\n",
    "\n",
    "    \n",
    "    \n",
    "                        \n",
    "\n"
   ]
  },
  {
   "cell_type": "markdown",
   "metadata": {},
   "source": [
    "### Learn Q function with TD(0) learning and $\\epsilon$ - greedy policy"
   ]
  },
  {
   "cell_type": "code",
   "execution_count": 5,
   "metadata": {},
   "outputs": [
    {
     "name": "stdout",
     "output_type": "stream",
     "text": [
      "episode 0 steps to reward 0\n",
      "episode 1000 steps to reward 9\n",
      "episode 2000 steps to reward 6\n",
      "episode 3000 steps to reward 5\n",
      "episode 4000 steps to reward 5\n",
      "episode 5000 steps to reward 8\n",
      "episode 6000 steps to reward 9\n",
      "episode 7000 steps to reward 3\n",
      "episode 8000 steps to reward 13\n",
      "episode 9000 steps to reward 5\n"
     ]
    }
   ],
   "source": [
    "rewards = []\n",
    "counter = 0\n",
    "COUNTERS = []\n",
    "\n",
    "# init agent\n",
    "h = hand(NPIXELY,NPIXELX)\n",
    "\n",
    "\n",
    "for ep in range(EPISODES): # for each episode\n",
    "\n",
    "    # init state\n",
    "    h.init_hand_pos(np.random.randint(NPIXELY),np.random.randint(NPIXELX))\n",
    "    h.init_targ_pos(8,5) # keep target in same location\n",
    "\n",
    "    \n",
    "    if ep%1000 ==0:\n",
    "        print('episode',ep,'steps to reward',counter)\n",
    "\n",
    "    counter = 0 # initialize step to reward counter\n",
    "    while h.hand_pos != h.targ_pos: # until target is reached\n",
    "\n",
    "        # choose action using Q[state] epsilon greedy\n",
    "        if np.random.rand()<EPSILON:\n",
    "            a = np.random.randint(8)\n",
    "        else:\n",
    "            a= np.argmax(h.get_Q(h.hand_pos))\n",
    "\n",
    "    \n",
    "        # old hand position\n",
    "        h_old = h.hand_pos[:]\n",
    "        # action\n",
    "        action = h.actions[a]\n",
    "        # new state\n",
    "        h.update_hand_pos(action[0],action[1])\n",
    "        \n",
    "        # if not at target\n",
    "        if h.hand_pos != h.targ_pos:\n",
    "            reward = -1\n",
    "        else:\n",
    "            reward = 0\n",
    "        rewards.append(reward) # append rewards\n",
    "        # TD (0) update\n",
    "        h.Q[tuple(h_old)][a] += ALPHA*(reward + np.amax(h.get_Q(h.hand_pos)) - h.get_Q(h_old)[a])\n",
    "\n",
    "        counter+=1\n",
    "    COUNTERS.append(counter)\n",
    "\n",
    "    "
   ]
  },
  {
   "cell_type": "code",
   "execution_count": 7,
   "metadata": {},
   "outputs": [
    {
     "data": {
      "image/png": "[encoded data removed]",
      "text/plain": [
       "<Figure size 432x288 with 1 Axes>"
      ]
     },
     "metadata": {
      "needs_background": "light"
     },
     "output_type": "display_data"
    }
   ],
   "source": [
    "f,ax = plt.subplots()\n",
    "ax.plot(COUNTERS[:])\n",
    "ax.set_xlabel('Episodes')\n",
    "ax.set_ylabel('Steps to reward')\n",
    "ax.spines['top'].set_visible(False)\n",
    "ax.spines['right'].set_visible(False)\n",
    "f.savefig(os.path.join(figdir,\"TabularQ_RewardsPerEpisode.pdf\"),format='pdf')\n",
    "f.savefig(os.path.join(figdir,\"TabularQ_RewardsPerEpisode.png\"),format='png')"
   ]
  },
  {
   "cell_type": "markdown",
   "metadata": {},
   "source": [
    "## Examine performance on example episodes"
   ]
  },
  {
   "cell_type": "code",
   "execution_count": 8,
   "metadata": {},
   "outputs": [],
   "source": [
    "# Generate some example agent trajectories\n",
    "hand_pos = []\n",
    "for it in range(20): # for each episode\n",
    "    hand_pos.append([]) \n",
    "    h.init_hand_pos(np.random.randint(NPIXELY),np.random.randint(NPIXELX)) # place agent in random location\n",
    "    hand_pos[-1].append([*h.hand_pos]) # save hand position\n",
    "\n",
    "    while h.hand_pos != h.targ_pos: # until target is reached\n",
    "        # choose action using Q[state]  - turn off epsilon greedy \n",
    "        a = np.argmax(h.get_Q(h.hand_pos))\n",
    "        # update hand position\n",
    "        h.update_hand_pos(*h.actions[a])\n",
    "        counter+=1\n",
    "        hand_pos[-1].append([*h.hand_pos])"
   ]
  },
  {
   "cell_type": "code",
   "execution_count": 9,
   "metadata": {},
   "outputs": [
    {
     "name": "stdout",
     "output_type": "stream",
     "text": [
      "odict_keys(['left', 'right', 'bottom', 'top'])\n"
     ]
    },
    {
     "data": {
      "image/png": "[encoded data removed]",
      "text/plain": [
       "<Figure size 432x288 with 1 Axes>"
      ]
     },
     "metadata": {},
     "output_type": "display_data"
    }
   ],
   "source": [
    "f,ax = plt.subplots()\n",
    "im = np.zeros((NPIXELY,NPIXELX))\n",
    "im[h.targ_pos[0],h.targ_pos[1]] = 1\n",
    "ax.imshow(im,cmap='Greys',zorder=-1)\n",
    "\n",
    "for it in range(len(hand_pos)):\n",
    "    \n",
    "    _hpos = np.array(hand_pos[it])\n",
    "    _hpos = _hpos+.1*np.random.randn(1,2)\n",
    "    ax.plot(_hpos[:,1],_hpos[:,0],color='blue')\n",
    "    \n",
    "ax.set_xticks([])\n",
    "ax.set_yticks([])\n",
    "print(ax.spines.keys())\n",
    "for k in ax.spines:\n",
    "    ax.spines[k].set_visible(False)\n",
    "ax.set_title(\"Example Trajectories\")\n",
    "f.savefig(os.path.join(figdir,\"tabularQLearningTrajectories.pdf\"),format='pdf')\n",
    "f.savefig(os.path.join(figdir,\"tabularQLearningTrajectories.png\"),format='png')\n"
   ]
  },
  {
   "cell_type": "markdown",
   "metadata": {},
   "source": [
    "## Add force perturbations"
   ]
  },
  {
   "cell_type": "code",
   "execution_count": 10,
   "metadata": {},
   "outputs": [
    {
     "name": "stdout",
     "output_type": "stream",
     "text": [
      "episode 0 steps to target 0\n",
      "episode 1000 steps to target 4\n",
      "episode 2000 steps to target 6\n",
      "episode 3000 steps to target 9\n",
      "episode 4000 steps to target 7\n",
      "episode 5000 steps to target 13\n",
      "episode 6000 steps to target 6\n",
      "episode 7000 steps to target 1\n",
      "episode 8000 steps to target 1\n",
      "episode 9000 steps to target 6\n",
      "episode 10000 steps to target 6\n",
      "episode 11000 steps to target 6\n",
      "episode 12000 steps to target 3\n",
      "episode 13000 steps to target 12\n",
      "episode 14000 steps to target 2\n",
      "episode 15000 steps to target 1\n",
      "episode 16000 steps to target 13\n",
      "episode 17000 steps to target 11\n",
      "episode 18000 steps to target 2\n",
      "episode 19000 steps to target 19\n",
      "episode 20000 steps to target 6\n",
      "episode 21000 steps to target 2\n",
      "episode 22000 steps to target 1\n",
      "episode 23000 steps to target 5\n",
      "episode 24000 steps to target 8\n",
      "episode 25000 steps to target 10\n",
      "episode 26000 steps to target 6\n",
      "episode 27000 steps to target 2\n",
      "episode 28000 steps to target 3\n",
      "episode 29000 steps to target 1\n",
      "episode 30000 steps to target 9\n",
      "episode 31000 steps to target 3\n",
      "episode 32000 steps to target 7\n",
      "episode 33000 steps to target 2\n",
      "episode 34000 steps to target 9\n",
      "episode 35000 steps to target 7\n",
      "episode 36000 steps to target 10\n",
      "episode 37000 steps to target 19\n",
      "episode 38000 steps to target 17\n",
      "episode 39000 steps to target 7\n",
      "episode 40000 steps to target 4\n",
      "episode 41000 steps to target 15\n",
      "episode 42000 steps to target 9\n",
      "episode 43000 steps to target 8\n",
      "episode 44000 steps to target 5\n",
      "episode 45000 steps to target 4\n",
      "episode 46000 steps to target 17\n",
      "episode 47000 steps to target 25\n",
      "episode 48000 steps to target 12\n",
      "episode 49000 steps to target 4\n",
      "episode 50000 steps to target 21\n",
      "episode 51000 steps to target 3\n",
      "episode 52000 steps to target 7\n",
      "episode 53000 steps to target 7\n",
      "episode 54000 steps to target 11\n",
      "episode 55000 steps to target 11\n",
      "episode 56000 steps to target 12\n",
      "episode 57000 steps to target 3\n",
      "episode 58000 steps to target 4\n",
      "episode 59000 steps to target 5\n",
      "episode 60000 steps to target 18\n",
      "episode 61000 steps to target 3\n",
      "episode 62000 steps to target 11\n",
      "episode 63000 steps to target 8\n",
      "episode 64000 steps to target 11\n",
      "episode 65000 steps to target 7\n",
      "episode 66000 steps to target 15\n",
      "episode 67000 steps to target 17\n",
      "episode 68000 steps to target 5\n",
      "episode 69000 steps to target 2\n",
      "episode 70000 steps to target 15\n",
      "episode 71000 steps to target 2\n",
      "episode 72000 steps to target 14\n",
      "episode 73000 steps to target 5\n",
      "episode 74000 steps to target 26\n",
      "episode 75000 steps to target 9\n",
      "episode 76000 steps to target 11\n",
      "episode 77000 steps to target 3\n",
      "episode 78000 steps to target 10\n",
      "episode 79000 steps to target 17\n",
      "episode 80000 steps to target 7\n",
      "episode 81000 steps to target 5\n",
      "episode 82000 steps to target 10\n",
      "episode 83000 steps to target 16\n",
      "episode 84000 steps to target 7\n",
      "episode 85000 steps to target 5\n",
      "episode 86000 steps to target 17\n",
      "episode 87000 steps to target 7\n",
      "episode 88000 steps to target 4\n",
      "episode 89000 steps to target 17\n",
      "episode 90000 steps to target 4\n",
      "episode 91000 steps to target 5\n",
      "episode 92000 steps to target 6\n",
      "episode 93000 steps to target 23\n",
      "episode 94000 steps to target 4\n",
      "episode 95000 steps to target 4\n",
      "episode 96000 steps to target 7\n",
      "episode 97000 steps to target 7\n",
      "episode 98000 steps to target 18\n",
      "episode 99000 steps to target 7\n"
     ]
    }
   ],
   "source": [
    "\n",
    "\n",
    "h_wind = hand(NPIXELY,NPIXELX) # new agent\n",
    "rewards = []\n",
    "counter = 0\n",
    "COUNTERS = []\n",
    "\n",
    "\n",
    "for ep in range(EPISODES*10):\n",
    "\n",
    "    # init state\n",
    "    h_wind.init_hand_pos(np.random.randint(NPIXELY),np.random.randint(NPIXELX))\n",
    "    h_wind.init_targ_pos(8,5) # initialize target\n",
    "\n",
    "    \n",
    "    if ep%1000 ==0:\n",
    "        print('episode',ep,'steps to target',counter)\n",
    "\n",
    "    counter = 0\n",
    "    while h_wind.hand_pos != h_wind.targ_pos:\n",
    "\n",
    "        # choose action using Q[state] epsilon greedy\n",
    "        if np.random.rand()<EPSILON:\n",
    "            a = np.random.randint(8)\n",
    "        else:\n",
    "            a= np.argmax(h_wind.get_Q(h_wind.hand_pos))\n",
    "\n",
    "    \n",
    "       # old state\n",
    "        h_old = h_wind.hand_pos[:]\n",
    "        # action\n",
    "        action = h_wind.actions[a][:]\n",
    "        \n",
    "        # add wind - (modifies state transition) \n",
    "        if (h_wind.hand_pos[0]>=2) and (h_wind.hand_pos[0]<=6):\n",
    "            action[1]-=1\n",
    "        \n",
    "        # new state\n",
    "        h_wind.update_hand_pos(action[0],action[1])\n",
    "        \n",
    "        # calculate rewards\n",
    "        if h_wind.hand_pos != h_wind.targ_pos:\n",
    "            reward = -1\n",
    "        else:\n",
    "            reward = 0\n",
    "        rewards.append(reward)\n",
    "        \n",
    "        # TD(0) update\n",
    "        h_wind.Q[tuple(h_old)][a] += ALPHA*(reward + np.amax(h_wind.get_Q(h_wind.hand_pos)) - h_wind.get_Q(h_old)[a])\n",
    "\n",
    "        counter+=1\n",
    "    COUNTERS.append(counter)"
   ]
  },
  {
   "cell_type": "code",
   "execution_count": 12,
   "metadata": {},
   "outputs": [
    {
     "data": {
      "image/png": "[encoded data removed]",
      "text/plain": [
       "<Figure size 432x288 with 1 Axes>"
      ]
     },
     "metadata": {
      "needs_background": "light"
     },
     "output_type": "display_data"
    }
   ],
   "source": [
    "f,ax = plt.subplots()\n",
    "ax.plot(COUNTERS[:])\n",
    "ax.set_xlabel('Episodes')\n",
    "ax.set_ylabel('Steps to Reward')\n",
    "ax.spines['top'].set_visible(False)\n",
    "ax.spines['right'].set_visible(False)\n",
    "f.savefig(os.path.join(figdir,\"TabularQ_Curl_RewardsPerEpisode.pdf\"),format='pdf')\n",
    "f.savefig(os.path.join(figdir,\"TabularQ_Curl_RewardsPerEpisode.png\"),format='png')"
   ]
  },
  {
   "cell_type": "code",
   "execution_count": 13,
   "metadata": {},
   "outputs": [],
   "source": [
    "# generate example trajectories\n",
    "hand_pos = []\n",
    "for it in range(20):\n",
    "    hand_pos.append([]) \n",
    "    h_wind.init_hand_pos(np.random.randint(NPIXELY),np.random.randint(NPIXELX)) # hand position\n",
    "    hand_pos[-1].append([*h_wind.hand_pos])\n",
    "\n",
    "    while h_wind.hand_pos != h.targ_pos: # unitl target is reached\n",
    "        # choose action using Q[state] \n",
    "        a = np.argmax(h_wind.get_Q(h_wind.hand_pos))\n",
    "        h_wind.update_hand_pos(*h_wind.actions[a])\n",
    "        counter+=1\n",
    "        hand_pos[-1].append([*h_wind.hand_pos])"
   ]
  },
  {
   "cell_type": "code",
   "execution_count": 14,
   "metadata": {},
   "outputs": [
    {
     "name": "stdout",
     "output_type": "stream",
     "text": [
      "odict_keys(['left', 'right', 'bottom', 'top'])\n"
     ]
    },
    {
     "data": {
      "image/png": "[encoded data removed]",
      "text/plain": [
       "<Figure size 432x288 with 1 Axes>"
      ]
     },
     "metadata": {},
     "output_type": "display_data"
    }
   ],
   "source": [
    "f,ax = plt.subplots()\n",
    "im = np.zeros((NPIXELY,NPIXELX))\n",
    "im[h_wind.targ_pos[0],h_wind.targ_pos[1]] = 1\n",
    "ax.imshow(im,cmap='Greys')\n",
    "\n",
    "ax.fill_between([0,10],[2,2],[6,6],color='black',alpha=.3)\n",
    "for it in range(len(hand_pos)):\n",
    "    \n",
    "    _hpos = np.array(hand_pos[it])\n",
    "    _hpos = _hpos+.1*np.random.randn(1,2)\n",
    "    ax.plot(_hpos[:,1],_hpos[:,0],color='blue')\n",
    "\n",
    "    \n",
    "ax.set_xticks([])\n",
    "ax.set_yticks([])\n",
    "print(ax.spines.keys())\n",
    "for k in ax.spines:\n",
    "    ax.spines[k].set_visible(False)\n",
    "ax.set_title(\"Example Trajectories w/ curl\")\n",
    "f.savefig(os.path.join(figdir,\"tabularQLearningTrajectories_curl.pdf\"),format='pdf')\n",
    "f.savefig(os.path.join(figdir,\"tabularQLearningTrajectories_curl.png\"),format='png')"
   ]
  },
  {
   "cell_type": "code",
   "execution_count": null,
   "metadata": {},
   "outputs": [],
   "source": []
  },
  {
   "cell_type": "code",
   "execution_count": null,
   "metadata": {},
   "outputs": [],
   "source": []
  }
 ],
 "metadata": {
  "kernelspec": {
   "display_name": "Python 3",
   "language": "python",
   "name": "python3"
  },
  "language_info": {
   "codemirror_mode": {
    "name": "ipython",
    "version": 3
   },
   "file_extension": ".py",
   "mimetype": "text/x-python",
   "name": "python",
   "nbconvert_exporter": "python",
   "pygments_lexer": "ipython3",
   "version": "3.7.4"
  }
 },
 "nbformat": 4,
 "nbformat_minor": 4
}
