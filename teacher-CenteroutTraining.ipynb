{
 "cells": [
  {
   "cell_type": "code",
   "execution_count": 1,
   "metadata": {
    "colab": {},
    "colab_type": "code",
    "id": "cHYNmztAKDjv"
   },
   "outputs": [],
   "source": [
    "import math\n",
    "import os\n",
    "import numpy as np\n",
    "import matplotlib.pyplot as plt\n",
    "%matplotlib inline\n",
    "\n",
    "import torch\n",
    "import torch.nn as nn\n",
    "import torch.nn.functional as F"
   ]
  },
  {
   "cell_type": "code",
   "execution_count": 2,
   "metadata": {},
   "outputs": [
    {
     "data": {
      "text/plain": [
       "False"
      ]
     },
     "execution_count": 2,
     "metadata": {},
     "output_type": "execute_result"
    }
   ],
   "source": [
    "torch.cuda.is_available()"
   ]
  },
  {
   "cell_type": "code",
   "execution_count": 2,
   "metadata": {
    "colab": {},
    "colab_type": "code",
    "id": "GLr3eNbvKDjz"
   },
   "outputs": [],
   "source": [
    "def createCenterOutTargets(r, N_TARGETS):\n",
    "    target = torch.empty(N_TARGETS, 2)\n",
    "    for i in range(N_TARGETS):\n",
    "        target[i,0] = r * np.cos(np.pi*2*i/N_TARGETS)\n",
    "        target[i,1] = r * np.sin(np.pi*2*i/N_TARGETS)\n",
    "    return target"
   ]
  },
  {
   "cell_type": "code",
   "execution_count": 3,
   "metadata": {
    "colab": {},
    "colab_type": "code",
    "id": "fgWZfwSFKDj1"
   },
   "outputs": [],
   "source": [
    "# Hyperparameters\n",
    "# Note: when MIN_DELAY and MAX_DELAY are too short compared to SEQLEN, \n",
    "# the network couldn't learn to hold. But if they are too long, it couldn't reach\n",
    "SCREEN_SIZE = 20\n",
    "INPUT_SIZE = 7\n",
    "OUT_SIZE = 2\n",
    "PADDING = 2\n",
    "N_NEURONS = 256\n",
    "MIN_DELAY = 30\n",
    "MAX_DELAY = 60\n",
    "MOVE_TARG_THRES = 2\n",
    "HOLD_TARG_THRES = 1\n",
    "\n",
    "PROP_GAIN = 0.2\n",
    "\n",
    "SEQLEN = 500\n",
    "N_TRAIN_EPOCHS = 21\n",
    "N_TRAIN_STEPS = 2500\n",
    "PRINT_EVERY=100\n",
    "\n",
    "# Alphas and betas determine how much the teacher signal guides the learning of the neural network\n",
    "ALPHAS = [0.8 ** k for k in range(N_TRAIN_EPOCHS)]\n",
    "BETAS = [a / 2 for a in ALPHAS]\n",
    "\n",
    "LEARNING_RATE = 1e-6\n",
    "\n",
    "ACC_PENALTY = 5\n",
    "\n",
    "# Define target locations for the pinball task and for the centerout task\n",
    "TARGET_SEQUENCE = PADDING + np.random.rand(20, 2) * (SCREEN_SIZE - 2 * PADDING)\n",
    "RADIUS = 5\n",
    "N_TARGETS_CO = 8\n",
    "TARGET_SEQUENCE_CO = SCREEN_SIZE/2 + createCenterOutTargets(RADIUS, N_TARGETS_CO)"
   ]
  },
  {
   "cell_type": "code",
   "execution_count": 4,
   "metadata": {
    "colab": {},
    "colab_type": "code",
    "id": "AzJSUCtyKDj6"
   },
   "outputs": [],
   "source": [
    "if not os.path.isdir('./CenteroutModelResults-{}Epochs'.format(N_TRAIN_EPOCHS)):\n",
    "    os.mkdir('./CenteroutModelResults-{}Epochs'.format(N_TRAIN_EPOCHS))"
   ]
  },
  {
   "cell_type": "code",
   "execution_count": 5,
   "metadata": {
    "colab": {},
    "colab_type": "code",
    "id": "XRoX8dnQKDj9"
   },
   "outputs": [],
   "source": [
    "## Defines the RNN.\n",
    "class MonkRNN(nn.Module):\n",
    "    def __init__(self, inp_size, n_neurons, out_size):\n",
    "        super(MonkRNN, self).__init__()\n",
    "\n",
    "        self.inp_size = inp_size\n",
    "        self.out_size = out_size\n",
    "        self.n_neurons = n_neurons\n",
    "        self.init_hidden_state = nn.Parameter(torch.zeros(1, n_neurons))\n",
    "\n",
    "        # Inputs are:\n",
    "        #  (go, hand_x, hand_y, curr_tgx, curr_tgy, next_tgx, next_tgy)\n",
    "        self.inp_layer = nn.Sequential(nn.Linear(inp_size, n_neurons), nn.ReLU())\n",
    "        \n",
    "        self.teach_inp_layer = nn.Linear(2, n_neurons)\n",
    "        self.teach_inp_layer.weight.data.normal_(0.0, 5 / np.sqrt(n_neurons))\n",
    "        \n",
    "        # Set teacher weights to constant.\n",
    "        for p in self.teach_inp_layer.parameters():\n",
    "            p.requires_grad = False\n",
    "        \n",
    "        # Recurrent layer parameters.\n",
    "        self.rnn = nn.GRUCell(n_neurons, n_neurons)\n",
    "        self.rnn.weight_hh.data.normal_(0, 2 / np.sqrt(n_neurons))\n",
    "\n",
    "        # Output layer parameters\n",
    "        self.out_layer = nn.Sequential(nn.Linear(n_neurons, n_neurons), nn.ReLU(), nn.Linear(n_neurons, out_size))\n",
    "        self.out_layer[0].weight.data.normal_(0, 1.5 / np.sqrt(n_neurons))\n",
    "        self.out_layer[2].weight.data.normal_(0, 1.5 / np.sqrt(n_neurons))\n",
    "        \n",
    "        # Strength of teacher input.\n",
    "        self.alpha = 1.0\n",
    "\n",
    "    def forward(self, inp, teach_inp, hidden=None):\n",
    "        \"\"\"\n",
    "        Parameters\n",
    "        ----------\n",
    "        inp : torch.tensor\n",
    "            Hand and target positions. Has shape (7,).\n",
    "            (go, hand_x, hand_y, curr_tgx, curr_tgy, next_tgx, next_tgy)\n",
    "        hidden : torch.tensor\n",
    "            Initial firing rates. Has shape (n_neurons,)\n",
    "        task_info : torch.tensor\n",
    "            tensor holding (go, curr_tgx, curr_tgy, next_tgx, next_tgy)\n",
    "\n",
    "        Returns\n",
    "        -------\n",
    "        acc : torch.tensor\n",
    "            has shape (2,) corresponding to x and y acceleration.\n",
    "        hiddens : torch.tensor\n",
    "            has shape (n_neurons,) corresponding network activity.\n",
    "        \"\"\"\n",
    "\n",
    "        if hidden is None:\n",
    "            hidden = self.init_hidden_state\n",
    "\n",
    "        # Update RNN one time step.\n",
    "        fx = self.inp_layer(inp) + self.alpha * self.teach_inp_layer(teach_inp) # Feed input to the input layer.\n",
    "        h_new = self.rnn(fx, hidden)\n",
    "\n",
    "        # Collect RNN output (acceleration of hand).\n",
    "        acc = self.out_layer(h_new)\n",
    "        # print(\"hidden {}, Acc {}\".format(h_new, acc))\n",
    "        return acc, h_new"
   ]
  },
  {
   "cell_type": "code",
   "execution_count": 6,
   "metadata": {
    "colab": {},
    "colab_type": "code",
    "id": "RNXx0UQ6KDj_"
   },
   "outputs": [],
   "source": [
    "## The task class: tracks hand location, monitors is hand reaches the target, and controls the task to switch between delay period and movement period.\n",
    "class PinballTask(nn.Module): \n",
    "    def __init__(self, hand, screen_size, min_delay, max_delay, move_targ_thres, hold_targ_thres, padding):\n",
    "        super(PinballTask, self).__init__()\n",
    "        self.screen_size = screen_size\n",
    "        self.padding = padding\n",
    "        self.move_targ_thres = move_targ_thres\n",
    "        self.hold_targ_thres = hold_targ_thres\n",
    "\n",
    "        self.delay_left = np.random.uniform(min_delay, max_delay)\n",
    "        self.delay = self.delay_left\n",
    "        self.min_delay = min_delay\n",
    "        self.max_delay = max_delay\n",
    "\n",
    "        self.go = torch.tensor([False])\n",
    "        \n",
    "        hx, hy = hand\n",
    "        self.curr_tgx = hx\n",
    "        self.curr_tgy = hy\n",
    "#         self.next_tgx = padding + torch.rand(1) * (screen_size - 2 * padding)\n",
    "#         self.next_tgy = padding + torch.rand(1) * (screen_size - 2 * padding)\n",
    "        self.target_index = 0\n",
    "        self.next_tgx = TARGET_SEQUENCE[0, 0]\n",
    "        self.next_tgy = TARGET_SEQUENCE[0, 1]\n",
    "\n",
    "    def forward(self, hand):\n",
    "        \"\"\"\n",
    "        Parameters\n",
    "        ----------\n",
    "        hand : torch.tensor\n",
    "            Hand positions and velocities\n",
    "        \"\"\"\n",
    "\n",
    "        # Compute distances to targets\n",
    "        hx, hy = hand\n",
    "        dist_to_curr = torch.sqrt(\n",
    "            (hx - self.curr_tgx) ** 2 + (hy - self.curr_tgy) ** 2)\n",
    "        dist_to_next = torch.sqrt(\n",
    "            (hx - self.next_tgx) ** 2 + (hy - self.next_tgy) ** 2)\n",
    "\n",
    "        # Reach period\n",
    "        if self.go:\n",
    "            # assert False\n",
    "\n",
    "            # Check for target acquired\n",
    "            if dist_to_next < self.move_targ_thres:\n",
    "                self.go = torch.tensor([False])\n",
    "                #self.target_index += 1\n",
    "                self.target_index = torch.randint(low = 0, high = len(TARGET_SEQUENCE), size = (1,1))\n",
    "                self.curr_tgx = self.next_tgx\n",
    "                self.curr_tgy = self.next_tgy\n",
    "                self.next_tgx = TARGET_SEQUENCE[self.target_index, 0]\n",
    "                self.next_tgy = TARGET_SEQUENCE[self.target_index, 1]\n",
    "#                 self.next_tgx = self.padding + torch.rand(1) * (self.screen_size - 2 * self.padding)\n",
    "#                 self.next_tgy = self.padding + torch.rand(1) * (self.screen_size - 2 * self.padding)\n",
    "                self.delay_left = np.random.uniform(self.min_delay, self.max_delay)\n",
    "\n",
    "        # Delay / Hold period\n",
    "        else:\n",
    "            # Check if hold is violated\n",
    "            if dist_to_curr >= self.hold_targ_thres:\n",
    "                self.delay_left = np.random.uniform(self.min_delay, self.max_delay)\n",
    "            else:\n",
    "                self.delay_left -=1\n",
    "            \n",
    "            # Check if delay is done.\n",
    "            if self.delay_left <= 0:\n",
    "                self.go = torch.tensor([True])\n",
    "                \n",
    "        return torch.tensor([\n",
    "            self.go,\n",
    "            hx,\n",
    "            hy,\n",
    "            self.curr_tgx,\n",
    "            self.curr_tgy,\n",
    "            self.next_tgx,\n",
    "            self.next_tgy\n",
    "        ])[None, :]\n"
   ]
  },
  {
   "cell_type": "code",
   "execution_count": 7,
   "metadata": {
    "colab": {},
    "colab_type": "code",
    "id": "loWhYr31KDkB"
   },
   "outputs": [],
   "source": [
    "class CenterOutTask(nn.Module):\n",
    "\n",
    "    def __init__(self, hand, screen_size, min_delay, max_delay, move_targ_thres, hold_targ_thres, padding):\n",
    "        super(CenterOutTask, self).__init__()\n",
    "        self.screen_size = screen_size\n",
    "        self.padding = padding\n",
    "        self.move_targ_thres = move_targ_thres\n",
    "        self.hold_targ_thres = hold_targ_thres\n",
    "\n",
    "        self.delay_left = np.random.uniform(min_delay, max_delay)\n",
    "        self.delay = self.delay_left\n",
    "        self.min_delay = min_delay\n",
    "        self.max_delay = max_delay\n",
    "\n",
    "        self.go = torch.tensor([False])\n",
    "        \n",
    "        hx, hy = hand\n",
    "        self.curr_tgx = torch.tensor([SCREEN_SIZE / 2])\n",
    "        self.curr_tgy = torch.tensor([SCREEN_SIZE / 2])\n",
    "        self.target_index = 0\n",
    "        self.next_tgx = TARGET_SEQUENCE_CO[0, 0]\n",
    "        self.next_tgy = TARGET_SEQUENCE_CO[0, 1]\n",
    "\n",
    "    def forward(self, hand):\n",
    "        \"\"\"\n",
    "        Parameters\n",
    "        ----------\n",
    "        hand : torch.tensor\n",
    "            Hand positions and velocities\n",
    "        \"\"\"\n",
    "\n",
    "        # Compute distances to targets\n",
    "        hx, hy = hand\n",
    "        dist_to_curr = torch.sqrt(\n",
    "            (hx - self.curr_tgx) ** 2 + (hy - self.curr_tgy) ** 2)\n",
    "        dist_to_next = torch.sqrt(\n",
    "            (hx - self.next_tgx) ** 2 + (hy - self.next_tgy) ** 2)\n",
    "\n",
    "        # Reach period\n",
    "        if self.go:\n",
    "            # assert False\n",
    "\n",
    "            # Check for target acquired\n",
    "            if dist_to_next < self.move_targ_thres:\n",
    "                self.go = torch.tensor([False])\n",
    "                #self.target_index += 1\n",
    "                self.target_index = torch.randint(low = 0, high = len(TARGET_SEQUENCE_CO), size = (1,1))\n",
    "                hx = torch.tensor([SCREEN_SIZE / 2])\n",
    "                hy = torch.tensor([SCREEN_SIZE / 2])\n",
    "                self.next_tgx = TARGET_SEQUENCE_CO[self.target_index, 0]\n",
    "                self.next_tgy = TARGET_SEQUENCE_CO[self.target_index, 1]\n",
    "                self.delay_left = np.random.uniform(self.min_delay, self.max_delay)\n",
    "\n",
    "        # Delay / Hold period\n",
    "        else:\n",
    "            # Check if hold is violated\n",
    "            if dist_to_curr >= self.hold_targ_thres:\n",
    "                self.delay_left = np.random.uniform(self.min_delay, self.max_delay)\n",
    "            else:\n",
    "                self.delay_left -=1\n",
    "            \n",
    "            # Check if delay is done.\n",
    "            if self.delay_left <= 0:\n",
    "                self.go = torch.tensor([True])\n",
    "                \n",
    "        return torch.tensor([\n",
    "            self.go,\n",
    "            hx,\n",
    "            hy,\n",
    "            self.curr_tgx,\n",
    "            self.curr_tgy,\n",
    "            self.next_tgx,\n",
    "            self.next_tgy\n",
    "        ])[None, :]\n"
   ]
  },
  {
   "cell_type": "code",
   "execution_count": 8,
   "metadata": {
    "colab": {},
    "colab_type": "code",
    "id": "QkKmNZ-7KDkE"
   },
   "outputs": [],
   "source": [
    "## Compute losses based on hand location and the smoothness (penalize abrupt hand acceleration) of movement\n",
    "class PinballCriterion(nn.Module):\n",
    "\n",
    "    def __init__(self, acc_penalty):\n",
    "        super(PinballCriterion, self).__init__()\n",
    "        self.acc_penalty = acc_penalty\n",
    "\n",
    "    def get_active_target(self, inp_hist):\n",
    "        \"\"\"Compute the active target at each timestep.\"\"\"\n",
    "        go = inp_hist[:, 0]\n",
    "        curr_targ = inp_hist[:, 3:5]\n",
    "        next_targ = inp_hist[:, 5:7]\n",
    "        return curr_targ * (1 - go[:, None]) + next_targ * go[:, None]\n",
    "        \n",
    "    def target_loss(self, inp_hist):\n",
    "        \"\"\"Computes loss between hand and active target.\"\"\"\n",
    "        active_targ = self.get_active_target(inp_hist)\n",
    "        return torch.mean((inp_hist[:, 1:3] - active_targ) ** 2)\n",
    "\n",
    "    def acc_loss(self, acc_hist):\n",
    "        \"\"\"Computes penalty on the acceleration.\"\"\"\n",
    "        return self.acc_penalty * torch.mean(acc_hist ** 2)\n",
    "    \n",
    "    def forward(self, inp_hist, acc_hist):\n",
    "        \"\"\"\n",
    "        Parameters\n",
    "        ----------\n",
    "        inp_hist : torch.tensor\n",
    "            has shape (n_timesteps, 4) corresponding to (hx, hy, vx, vy) at each timepoint.\n",
    "        acc_hist : torch.tensor\n",
    "            has shape (n_timesteps, 2) corresponding to accelations\n",
    "        \"\"\"\n",
    "        target_loss = self.target_loss(inp_hist)\n",
    "        acc_loss = self.acc_loss(acc_hist)\n",
    "        return target_loss + acc_loss"
   ]
  },
  {
   "cell_type": "code",
   "execution_count": 9,
   "metadata": {
    "colab": {},
    "colab_type": "code",
    "id": "Az9Hkx0eKDkG"
   },
   "outputs": [],
   "source": [
    "## Compute the teaching signal based on the difference between current hand acceleration and target hand acc (this is the vector pointing from current hand location to the target location).\n",
    "class TeacherHandDynamics(nn.Module):\n",
    "    def __init__(self, screen_size, friction=5.0, teacher_scale=1.0):\n",
    "        super(TeacherHandDynamics, self).__init__()\n",
    "        self.screen_size = screen_size\n",
    "        self.friction = friction\n",
    "        self.teacher_scale = teacher_scale\n",
    "\n",
    "    def initialize(self, hx, hy):\n",
    "        self.hx = torch.tensor([hx])\n",
    "        self.hy = torch.tensor([hy])\n",
    "        self.vx = torch.zeros(1)\n",
    "        self.vy = torch.zeros(1)\n",
    "        self.int_errx = 0.0\n",
    "        self.int_erry = 0.0\n",
    "\n",
    "    def forward(self, acc, targ_loc):\n",
    "        \"\"\"\n",
    "        Parameters\n",
    "        ----------\n",
    "        acc : torch.tensor\n",
    "            has shape (2,) correspond to (ax, ay)\n",
    "        targ_loc : torch.tensor\n",
    "            location of the current target\n",
    "        \n",
    "        Returns\n",
    "        -------\n",
    "        hand : torch.tensor\n",
    "            has shape (2,) corresponding to (hx, hy).\n",
    "        \"\"\"\n",
    "        acc = acc.squeeze()\n",
    "        \n",
    "        hx = self.hx.item()\n",
    "        hy = self.hy.item()\n",
    "        tgx = targ_loc[0].item()\n",
    "        tgy = targ_loc[1].item()\n",
    "\n",
    "        # Teacher direction\n",
    "        errx = (tgx - hx)\n",
    "        erry = (tgy - hy)\n",
    "        self.int_errx += 0.9 * errx\n",
    "        self.int_erry += 0.9 * erry\n",
    "        \n",
    "        teach_x = 0.01 * self.int_errx + PROP_GAIN * errx\n",
    "        teach_y = 0.01 * self.int_erry + PROP_GAIN * erry\n",
    "\n",
    "        # Add teacher contribution\n",
    "        ax = teach_x * self.teacher_scale + acc[0] * (1 - self.teacher_scale)\n",
    "        ay = teach_y * self.teacher_scale + acc[1] * (1 - self.teacher_scale)\n",
    "\n",
    "        self.vx = self.vx / self.friction + ax\n",
    "        self.vy = self.vy / self.friction + ay\n",
    "        self.hx = torch.clamp(self.hx + self.vx, .1, self.screen_size - .1)\n",
    "        self.hy = torch.clamp(self.hy + self.vy, .1, self.screen_size - .1)\n",
    "        \n",
    "        teacher_loss = (teach_x - acc[0]) ** 2 + (teach_y - acc[1]) ** 2\n",
    "\n",
    "        return (\n",
    "            torch.cat((self.hx, self.hy)),\n",
    "            teacher_loss,\n",
    "            torch.tensor([teach_x, teach_y]),\n",
    "        )"
   ]
  },
  {
   "cell_type": "code",
   "execution_count": 10,
   "metadata": {
    "colab": {},
    "colab_type": "code",
    "id": "c8jnAg41KDkI"
   },
   "outputs": [],
   "source": [
    "# Define transformations.\n",
    "rnn = MonkRNN(INPUT_SIZE, N_NEURONS, OUT_SIZE)\n",
    "hand_dynamics = TeacherHandDynamics(SCREEN_SIZE, teacher_scale=0.1)\n",
    "crit = PinballCriterion(ACC_PENALTY)\n",
    "# optimizer = torch.optim.Adam(rnn.parameters(), lr = LEARNING_RATE)\n",
    "optimizer = torch.optim.SGD(rnn.parameters(), lr=LEARNING_RATE)"
   ]
  },
  {
   "cell_type": "code",
   "execution_count": 11,
   "metadata": {
    "colab": {},
    "colab_type": "code",
    "id": "DhmJkOsAKDkK"
   },
   "outputs": [],
   "source": [
    "# This section is written for continuing training from a trained RNN\n",
    "# rnn = torch.load('./CenteroutModelResults-20Epochs/MonkRNN_TrainedModel_CenteroutEpoch14.pt')\n",
    "# hand_dynamics = torch.load('./CenteroutModelResults-20Epochs/MonkRNN_TrainingHandDynamics_CenteroutEpoch14.pt')\n",
    "\n",
    "# ALPHAS = [0.8 ** k for k in range(20)]\n",
    "# BETAS = [a / 2 for a in ALPHAS]"
   ]
  },
  {
   "cell_type": "code",
   "execution_count": 12,
   "metadata": {
    "colab": {},
    "colab_type": "code",
    "collapsed": true,
    "id": "RYEOiJcyKDkN",
    "jupyter": {
     "outputs_hidden": true
    },
    "outputId": "d961524d-f9ea-48a5-931a-82f6de6df71c"
   },
   "outputs": [
    {
     "name": "stderr",
     "output_type": "stream",
     "text": [
      "C:\\Users\\markp\\anaconda3\\lib\\site-packages\\torch\\serialization.py:402: UserWarning: Couldn't retrieve source code for container of type MonkRNN. It won't be checked for correctness upon loading.\n",
      "  \"type \" + obj.__name__ + \". It won't be checked \"\n",
      "C:\\Users\\markp\\anaconda3\\lib\\site-packages\\torch\\serialization.py:402: UserWarning: Couldn't retrieve source code for container of type TeacherHandDynamics. It won't be checked for correctness upon loading.\n",
      "  \"type \" + obj.__name__ + \". It won't be checked \"\n"
     ]
    },
    {
     "name": "stdout",
     "output_type": "stream",
     "text": [
      "Epoch 0, Step 0, Loss 6004.97216796875\n",
      "Epoch 0, Step 100, Loss 40.71324920654297\n",
      "Epoch 0, Step 200, Loss 42.238319396972656\n",
      "Epoch 0, Step 300, Loss 38.4250602722168\n",
      "Epoch 0, Step 400, Loss 31.741153717041016\n",
      "Epoch 0, Step 500, Loss 30.938249588012695\n",
      "Epoch 0, Step 600, Loss 34.407203674316406\n",
      "Epoch 0, Step 700, Loss 34.160621643066406\n",
      "Epoch 0, Step 800, Loss 28.65470314025879\n",
      "Epoch 0, Step 900, Loss 27.742162704467773\n",
      "Epoch 0, Step 1000, Loss 26.49353790283203\n",
      "Epoch 0, Step 1100, Loss 27.41535758972168\n",
      "Epoch 0, Step 1200, Loss 27.486766815185547\n",
      "Epoch 0, Step 1300, Loss 28.19778060913086\n",
      "Epoch 0, Step 1400, Loss 21.324905395507812\n",
      "Epoch 0, Step 1500, Loss 29.33571434020996\n",
      "Epoch 0, Step 1600, Loss 26.964658737182617\n",
      "Epoch 0, Step 1700, Loss 20.267892837524414\n",
      "Epoch 0, Step 1800, Loss 21.158477783203125\n",
      "Epoch 0, Step 1900, Loss 19.888172149658203\n",
      "Epoch 0, Step 2000, Loss 24.23923683166504\n",
      "Epoch 0, Step 2100, Loss 23.237125396728516\n",
      "Epoch 0, Step 2200, Loss 21.19231605529785\n",
      "Epoch 0, Step 2300, Loss 20.509855270385742\n",
      "Epoch 0, Step 2400, Loss 20.648618698120117\n",
      "Epoch 1, Step 0, Loss 20.828813552856445\n",
      "Epoch 1, Step 100, Loss 22.50288963317871\n",
      "Epoch 1, Step 200, Loss 22.131134033203125\n",
      "Epoch 1, Step 300, Loss 24.3978271484375\n",
      "Epoch 1, Step 400, Loss 20.793991088867188\n",
      "Epoch 1, Step 500, Loss 65.00420379638672\n",
      "Epoch 1, Step 600, Loss 18.939559936523438\n",
      "Epoch 1, Step 700, Loss 31.3720645904541\n",
      "Epoch 1, Step 800, Loss 20.634628295898438\n",
      "Epoch 1, Step 900, Loss 25.821866989135742\n",
      "Epoch 1, Step 1000, Loss 21.501083374023438\n",
      "Epoch 1, Step 1100, Loss 17.196533203125\n",
      "Epoch 1, Step 1200, Loss 19.655977249145508\n",
      "Epoch 1, Step 1300, Loss 20.99679183959961\n",
      "Epoch 1, Step 1400, Loss 17.973541259765625\n",
      "Epoch 1, Step 1500, Loss 17.25929069519043\n",
      "Epoch 1, Step 1600, Loss 16.803878784179688\n",
      "Epoch 1, Step 1700, Loss 18.24570083618164\n",
      "Epoch 1, Step 1800, Loss 25.872888565063477\n",
      "Epoch 1, Step 1900, Loss 24.214122772216797\n",
      "Epoch 1, Step 2000, Loss 19.63166046142578\n",
      "Epoch 1, Step 2100, Loss 24.196557998657227\n",
      "Epoch 1, Step 2200, Loss 38.63187026977539\n",
      "Epoch 1, Step 2300, Loss 15.9229736328125\n",
      "Epoch 1, Step 2400, Loss 27.524309158325195\n",
      "Epoch 2, Step 0, Loss 21.01119613647461\n",
      "Epoch 2, Step 100, Loss 37.32109069824219\n",
      "Epoch 2, Step 200, Loss 52.34275817871094\n",
      "Epoch 2, Step 300, Loss 34.86317443847656\n",
      "Epoch 2, Step 400, Loss 18.285892486572266\n",
      "Epoch 2, Step 500, Loss 25.812246322631836\n",
      "Epoch 2, Step 600, Loss 16.700027465820312\n",
      "Epoch 2, Step 700, Loss 18.052356719970703\n",
      "Epoch 2, Step 800, Loss 15.028227806091309\n",
      "Epoch 2, Step 900, Loss 19.904356002807617\n",
      "Epoch 2, Step 1000, Loss 26.664703369140625\n",
      "Epoch 2, Step 1100, Loss 20.438800811767578\n",
      "Epoch 2, Step 1200, Loss 18.82637596130371\n",
      "Epoch 2, Step 1300, Loss 22.408361434936523\n",
      "Epoch 2, Step 1400, Loss 23.637449264526367\n",
      "Epoch 2, Step 1500, Loss 17.608829498291016\n",
      "Epoch 2, Step 1600, Loss 21.152116775512695\n",
      "Epoch 2, Step 1700, Loss 21.2851619720459\n",
      "Epoch 2, Step 1800, Loss 18.89273452758789\n",
      "Epoch 2, Step 1900, Loss 27.98540496826172\n",
      "Epoch 2, Step 2000, Loss 36.098819732666016\n",
      "Epoch 2, Step 2100, Loss 18.76551628112793\n",
      "Epoch 2, Step 2200, Loss 16.18634796142578\n",
      "Epoch 2, Step 2300, Loss 15.639559745788574\n",
      "Epoch 2, Step 2400, Loss 14.121871948242188\n",
      "Epoch 3, Step 0, Loss 25.264652252197266\n",
      "Epoch 3, Step 100, Loss 24.457406997680664\n",
      "Epoch 3, Step 200, Loss 31.643722534179688\n",
      "Epoch 3, Step 300, Loss 60.1940803527832\n",
      "Epoch 3, Step 400, Loss 63.24414825439453\n",
      "Epoch 3, Step 500, Loss 43.79237365722656\n",
      "Epoch 3, Step 600, Loss 27.395904541015625\n",
      "Epoch 3, Step 700, Loss 44.358402252197266\n",
      "Epoch 3, Step 800, Loss 19.584278106689453\n",
      "Epoch 3, Step 900, Loss 14.28650188446045\n",
      "Epoch 3, Step 1000, Loss 31.050323486328125\n",
      "Epoch 3, Step 1100, Loss 16.57949447631836\n",
      "Epoch 3, Step 1200, Loss 23.971364974975586\n",
      "Epoch 3, Step 1300, Loss 25.324125289916992\n",
      "Epoch 3, Step 1400, Loss 16.773582458496094\n",
      "Epoch 3, Step 1500, Loss 49.0652961730957\n",
      "Epoch 3, Step 1600, Loss 14.567558288574219\n",
      "Epoch 3, Step 1700, Loss 33.722660064697266\n",
      "Epoch 3, Step 1800, Loss 18.090290069580078\n",
      "Epoch 3, Step 1900, Loss 23.846467971801758\n",
      "Epoch 3, Step 2000, Loss 26.91175079345703\n",
      "Epoch 3, Step 2100, Loss 14.235547065734863\n",
      "Epoch 3, Step 2200, Loss 13.655000686645508\n",
      "Epoch 3, Step 2300, Loss 19.24530792236328\n",
      "Epoch 3, Step 2400, Loss 22.303606033325195\n",
      "Epoch 4, Step 0, Loss 13.393916130065918\n",
      "Epoch 4, Step 100, Loss 26.45940589904785\n",
      "Epoch 4, Step 200, Loss 236.25392150878906\n",
      "Epoch 4, Step 300, Loss 35.83467483520508\n",
      "Epoch 4, Step 400, Loss 30.637353897094727\n",
      "Epoch 4, Step 500, Loss 23.470003128051758\n",
      "Epoch 4, Step 600, Loss 24.719226837158203\n",
      "Epoch 4, Step 700, Loss 23.393278121948242\n",
      "Epoch 4, Step 800, Loss 17.97336769104004\n",
      "Epoch 4, Step 900, Loss 47.18973159790039\n",
      "Epoch 4, Step 1000, Loss 41.79119110107422\n",
      "Epoch 4, Step 1100, Loss 29.981801986694336\n",
      "Epoch 4, Step 1200, Loss 37.38129806518555\n",
      "Epoch 4, Step 1300, Loss 17.057418823242188\n",
      "Epoch 4, Step 1400, Loss 23.462221145629883\n",
      "Epoch 4, Step 1500, Loss 29.656375885009766\n",
      "Epoch 4, Step 1600, Loss 14.717418670654297\n",
      "Epoch 4, Step 1700, Loss 32.971336364746094\n",
      "Epoch 4, Step 1800, Loss 15.519739151000977\n",
      "Epoch 4, Step 1900, Loss 14.931758880615234\n",
      "Epoch 4, Step 2000, Loss 20.7849178314209\n",
      "Epoch 4, Step 2100, Loss 16.830873489379883\n",
      "Epoch 4, Step 2200, Loss 13.570084571838379\n",
      "Epoch 4, Step 2300, Loss 15.202116966247559\n",
      "Epoch 4, Step 2400, Loss 24.317840576171875\n",
      "Epoch 5, Step 0, Loss 24.19041633605957\n",
      "Epoch 5, Step 100, Loss 18.950206756591797\n",
      "Epoch 5, Step 200, Loss 18.518739700317383\n",
      "Epoch 5, Step 300, Loss 43.72459030151367\n",
      "Epoch 5, Step 400, Loss 15.726823806762695\n",
      "Epoch 5, Step 500, Loss 156.18980407714844\n",
      "Epoch 5, Step 600, Loss 22.6386661529541\n",
      "Epoch 5, Step 700, Loss 44.75423049926758\n",
      "Epoch 5, Step 800, Loss 13.768575668334961\n",
      "Epoch 5, Step 900, Loss 25.984542846679688\n",
      "Epoch 5, Step 1000, Loss 22.72137451171875\n",
      "Epoch 5, Step 1100, Loss 15.772000312805176\n",
      "Epoch 5, Step 1200, Loss 13.482686042785645\n",
      "Epoch 5, Step 1300, Loss 31.490184783935547\n",
      "Epoch 5, Step 1400, Loss 38.872589111328125\n",
      "Epoch 5, Step 1500, Loss 26.310264587402344\n",
      "Epoch 5, Step 1600, Loss 23.019329071044922\n",
      "Epoch 5, Step 1700, Loss 36.793182373046875\n",
      "Epoch 5, Step 1800, Loss 30.488964080810547\n",
      "Epoch 5, Step 1900, Loss 20.829151153564453\n",
      "Epoch 5, Step 2000, Loss 11.49708080291748\n",
      "Epoch 5, Step 2100, Loss 14.804047584533691\n",
      "Epoch 5, Step 2200, Loss 25.88884735107422\n",
      "Epoch 5, Step 2300, Loss 18.515640258789062\n",
      "Epoch 5, Step 2400, Loss 16.599782943725586\n",
      "Epoch 6, Step 0, Loss 58.705909729003906\n",
      "Epoch 6, Step 100, Loss 78.03385925292969\n",
      "Epoch 6, Step 200, Loss 31.633628845214844\n",
      "Epoch 6, Step 300, Loss 45.477481842041016\n",
      "Epoch 6, Step 400, Loss 30.562862396240234\n",
      "Epoch 6, Step 500, Loss 16.187685012817383\n",
      "Epoch 6, Step 600, Loss 28.5042781829834\n",
      "Epoch 6, Step 700, Loss 22.337440490722656\n",
      "Epoch 6, Step 800, Loss 18.445661544799805\n",
      "Epoch 6, Step 900, Loss 18.495912551879883\n",
      "Epoch 6, Step 1000, Loss 16.715307235717773\n",
      "Epoch 6, Step 1100, Loss 27.14698600769043\n",
      "Epoch 6, Step 1200, Loss 22.336151123046875\n",
      "Epoch 6, Step 1300, Loss 23.244863510131836\n",
      "Epoch 6, Step 1400, Loss 14.984291076660156\n",
      "Epoch 6, Step 1500, Loss 18.44888687133789\n",
      "Epoch 6, Step 1600, Loss 33.41425704956055\n",
      "Epoch 6, Step 1700, Loss 41.92502212524414\n",
      "Epoch 6, Step 1800, Loss 18.06753921508789\n",
      "Epoch 6, Step 1900, Loss 50.26179122924805\n",
      "Epoch 6, Step 2000, Loss 51.48717498779297\n",
      "Epoch 6, Step 2100, Loss 20.565185546875\n",
      "Epoch 6, Step 2200, Loss 19.367935180664062\n",
      "Epoch 6, Step 2300, Loss 23.4388484954834\n",
      "Epoch 6, Step 2400, Loss 25.395883560180664\n",
      "Epoch 7, Step 0, Loss 24.204191207885742\n",
      "Epoch 7, Step 100, Loss 16.069374084472656\n",
      "Epoch 7, Step 200, Loss 60.3349723815918\n",
      "Epoch 7, Step 300, Loss 16.310028076171875\n",
      "Epoch 7, Step 400, Loss 16.527307510375977\n",
      "Epoch 7, Step 500, Loss 23.818504333496094\n",
      "Epoch 7, Step 600, Loss 36.76325225830078\n",
      "Epoch 7, Step 700, Loss 14.96904468536377\n",
      "Epoch 7, Step 800, Loss 17.330141067504883\n",
      "Epoch 7, Step 900, Loss 34.449806213378906\n",
      "Epoch 7, Step 1000, Loss 15.023233413696289\n",
      "Epoch 7, Step 1100, Loss 14.0160493850708\n",
      "Epoch 7, Step 1200, Loss 13.6324462890625\n",
      "Epoch 7, Step 1300, Loss 35.22139358520508\n",
      "Epoch 7, Step 1400, Loss 16.817058563232422\n",
      "Epoch 7, Step 1500, Loss 93.61201477050781\n",
      "Epoch 7, Step 1600, Loss 13.94432258605957\n",
      "Epoch 7, Step 1700, Loss 64.97496795654297\n",
      "Epoch 7, Step 1800, Loss 26.87542724609375\n",
      "Epoch 7, Step 1900, Loss 11.207027435302734\n",
      "Epoch 7, Step 2000, Loss 22.7575626373291\n",
      "Epoch 7, Step 2100, Loss 11.727794647216797\n",
      "Epoch 7, Step 2200, Loss 23.425989151000977\n",
      "Epoch 7, Step 2300, Loss 18.223400115966797\n",
      "Epoch 7, Step 2400, Loss 11.13516616821289\n",
      "Epoch 8, Step 0, Loss 21.988113403320312\n",
      "Epoch 8, Step 100, Loss 63.87589645385742\n",
      "Epoch 8, Step 200, Loss 40.45818328857422\n",
      "Epoch 8, Step 300, Loss 21.307796478271484\n",
      "Epoch 8, Step 400, Loss 55.91511535644531\n",
      "Epoch 8, Step 500, Loss 16.94387435913086\n",
      "Epoch 8, Step 600, Loss 31.103342056274414\n",
      "Epoch 8, Step 700, Loss 15.406641006469727\n",
      "Epoch 8, Step 800, Loss 12.253567695617676\n",
      "Epoch 8, Step 900, Loss 34.2789306640625\n",
      "Epoch 8, Step 1000, Loss 10.44011116027832\n",
      "Epoch 8, Step 1100, Loss 18.15528678894043\n",
      "Epoch 8, Step 1200, Loss 31.52560043334961\n",
      "Epoch 8, Step 1300, Loss 20.885835647583008\n",
      "Epoch 8, Step 1400, Loss 14.345818519592285\n",
      "Epoch 8, Step 1500, Loss 24.103694915771484\n",
      "Epoch 8, Step 1600, Loss 15.755400657653809\n",
      "Epoch 8, Step 1700, Loss 15.908417701721191\n",
      "Epoch 8, Step 1800, Loss 17.080596923828125\n",
      "Epoch 8, Step 1900, Loss 109.14898681640625\n",
      "Epoch 8, Step 2000, Loss 123.85844421386719\n",
      "Epoch 8, Step 2100, Loss 11.654813766479492\n",
      "Epoch 8, Step 2200, Loss 10.032544136047363\n",
      "Epoch 8, Step 2300, Loss 25.06905746459961\n",
      "Epoch 8, Step 2400, Loss 18.987655639648438\n",
      "Epoch 9, Step 0, Loss 11.913216590881348\n",
      "Epoch 9, Step 100, Loss 49.78526306152344\n",
      "Epoch 9, Step 200, Loss 165.96890258789062\n",
      "Epoch 9, Step 300, Loss 28.269983291625977\n",
      "Epoch 9, Step 400, Loss 16.98377227783203\n",
      "Epoch 9, Step 500, Loss 24.427331924438477\n",
      "Epoch 9, Step 600, Loss 14.95235824584961\n",
      "Epoch 9, Step 700, Loss 23.656715393066406\n",
      "Epoch 9, Step 800, Loss 19.529390335083008\n",
      "Epoch 9, Step 900, Loss 19.38776206970215\n",
      "Epoch 9, Step 1000, Loss 17.741605758666992\n",
      "Epoch 9, Step 1100, Loss 10.559529304504395\n",
      "Epoch 9, Step 1200, Loss 12.153504371643066\n",
      "Epoch 9, Step 1300, Loss 14.902716636657715\n",
      "Epoch 9, Step 1400, Loss 34.29790496826172\n",
      "Epoch 9, Step 1500, Loss 15.504915237426758\n",
      "Epoch 9, Step 1600, Loss 34.76046371459961\n",
      "Epoch 9, Step 1700, Loss 12.190546035766602\n",
      "Epoch 9, Step 1800, Loss 13.102984428405762\n",
      "Epoch 9, Step 1900, Loss 25.75465965270996\n",
      "Epoch 9, Step 2000, Loss 9.177288055419922\n",
      "Epoch 9, Step 2100, Loss 10.310234069824219\n",
      "Epoch 9, Step 2200, Loss 8.013243675231934\n",
      "Epoch 9, Step 2300, Loss 15.11759090423584\n",
      "Epoch 9, Step 2400, Loss 9.08980941772461\n",
      "Epoch 10, Step 0, Loss 29.624765396118164\n",
      "Epoch 10, Step 100, Loss 170.14926147460938\n",
      "Epoch 10, Step 200, Loss 25.853736877441406\n",
      "Epoch 10, Step 300, Loss 26.963857650756836\n",
      "Epoch 10, Step 400, Loss 39.94499969482422\n",
      "Epoch 10, Step 500, Loss 20.753141403198242\n",
      "Epoch 10, Step 600, Loss 12.845738410949707\n",
      "Epoch 10, Step 700, Loss 62.77413558959961\n",
      "Epoch 10, Step 800, Loss 26.511831283569336\n",
      "Epoch 10, Step 900, Loss 31.747705459594727\n",
      "Epoch 10, Step 1000, Loss 8.645408630371094\n",
      "Epoch 10, Step 1100, Loss 52.750240325927734\n",
      "Epoch 10, Step 1200, Loss 26.452348709106445\n",
      "Epoch 10, Step 1300, Loss 16.74031639099121\n",
      "Epoch 10, Step 1400, Loss 30.505325317382812\n",
      "Epoch 10, Step 1500, Loss 9.89121150970459\n",
      "Epoch 10, Step 1600, Loss 10.389616966247559\n",
      "Epoch 10, Step 1700, Loss 41.22231674194336\n",
      "Epoch 10, Step 1800, Loss 17.94522476196289\n",
      "Epoch 10, Step 1900, Loss 11.809829711914062\n",
      "Epoch 10, Step 2000, Loss 9.489776611328125\n",
      "Epoch 10, Step 2100, Loss 13.216594696044922\n",
      "Epoch 10, Step 2200, Loss 54.37674331665039\n",
      "Epoch 10, Step 2300, Loss 15.314438819885254\n",
      "Epoch 10, Step 2400, Loss 18.90938949584961\n",
      "Epoch 11, Step 0, Loss 21.754138946533203\n",
      "Epoch 11, Step 100, Loss 482.6922302246094\n",
      "Epoch 11, Step 200, Loss 42.712013244628906\n",
      "Epoch 11, Step 300, Loss 58.84891128540039\n",
      "Epoch 11, Step 400, Loss 28.34983253479004\n",
      "Epoch 11, Step 500, Loss 22.420488357543945\n",
      "Epoch 11, Step 600, Loss 43.6053466796875\n",
      "Epoch 11, Step 700, Loss 22.32558250427246\n",
      "Epoch 11, Step 800, Loss 25.42899513244629\n",
      "Epoch 11, Step 900, Loss 23.234952926635742\n",
      "Epoch 11, Step 1000, Loss 16.586593627929688\n",
      "Epoch 11, Step 1100, Loss 21.58494758605957\n",
      "Epoch 11, Step 1200, Loss 16.18003273010254\n",
      "Epoch 11, Step 1300, Loss 20.3651123046875\n",
      "Epoch 11, Step 1400, Loss 21.00877571105957\n",
      "Epoch 11, Step 1500, Loss 14.899405479431152\n",
      "Epoch 11, Step 1600, Loss 13.062440872192383\n",
      "Epoch 11, Step 1700, Loss 18.32634735107422\n",
      "Epoch 11, Step 1800, Loss 14.034159660339355\n",
      "Epoch 11, Step 1900, Loss 15.048879623413086\n",
      "Epoch 11, Step 2000, Loss 19.994705200195312\n",
      "Epoch 11, Step 2100, Loss 16.20320701599121\n",
      "Epoch 11, Step 2200, Loss 14.491954803466797\n",
      "Epoch 11, Step 2300, Loss 12.041522026062012\n",
      "Epoch 11, Step 2400, Loss 11.904118537902832\n",
      "Epoch 12, Step 0, Loss 11.398385047912598\n",
      "Epoch 12, Step 100, Loss 45.47724914550781\n",
      "Epoch 12, Step 200, Loss 20.367258071899414\n",
      "Epoch 12, Step 300, Loss 20.742433547973633\n",
      "Epoch 12, Step 400, Loss 13.308304786682129\n",
      "Epoch 12, Step 500, Loss 17.0050048828125\n",
      "Epoch 12, Step 600, Loss 24.982166290283203\n",
      "Epoch 12, Step 700, Loss 12.171972274780273\n",
      "Epoch 12, Step 800, Loss 16.128814697265625\n",
      "Epoch 12, Step 900, Loss 13.547259330749512\n",
      "Epoch 12, Step 1000, Loss 11.654901504516602\n",
      "Epoch 12, Step 1100, Loss 10.626622200012207\n",
      "Epoch 12, Step 1200, Loss 9.48029613494873\n",
      "Epoch 12, Step 1300, Loss 16.063810348510742\n",
      "Epoch 12, Step 1400, Loss 11.660407066345215\n",
      "Epoch 12, Step 1500, Loss 12.309741020202637\n",
      "Epoch 12, Step 1600, Loss 9.837026596069336\n",
      "Epoch 12, Step 1700, Loss 16.082599639892578\n",
      "Epoch 12, Step 1800, Loss 23.006183624267578\n",
      "Epoch 12, Step 1900, Loss 12.148799896240234\n",
      "Epoch 12, Step 2000, Loss 20.447383880615234\n",
      "Epoch 12, Step 2100, Loss 19.097105026245117\n",
      "Epoch 12, Step 2200, Loss 14.086270332336426\n",
      "Epoch 12, Step 2300, Loss 14.984803199768066\n",
      "Epoch 12, Step 2400, Loss 21.157625198364258\n",
      "Epoch 13, Step 0, Loss 18.960214614868164\n",
      "Epoch 13, Step 100, Loss 3821.6123046875\n",
      "Epoch 13, Step 200, Loss 34.005794525146484\n",
      "Epoch 13, Step 300, Loss 19.42702865600586\n",
      "Epoch 13, Step 400, Loss 97.31388092041016\n",
      "Epoch 13, Step 500, Loss 19.814319610595703\n",
      "Epoch 13, Step 600, Loss 24.049243927001953\n",
      "Epoch 13, Step 700, Loss 22.681058883666992\n",
      "Epoch 13, Step 800, Loss 21.744020462036133\n",
      "Epoch 13, Step 900, Loss 20.569698333740234\n",
      "Epoch 13, Step 1000, Loss 14.8797025680542\n",
      "Epoch 13, Step 1100, Loss 20.873023986816406\n",
      "Epoch 13, Step 1200, Loss 36.04963684082031\n",
      "Epoch 13, Step 1300, Loss 9.358619689941406\n",
      "Epoch 13, Step 1400, Loss 24.622047424316406\n"
     ]
    },
    {
     "ename": "KeyboardInterrupt",
     "evalue": "",
     "output_type": "error",
     "traceback": [
      "\u001b[1;31m---------------------------------------------------------------------------\u001b[0m",
      "\u001b[1;31mKeyboardInterrupt\u001b[0m                         Traceback (most recent call last)",
      "\u001b[1;32m<ipython-input-12-eef226bdc6d6>\u001b[0m in \u001b[0;36m<module>\u001b[1;34m\u001b[0m\n\u001b[0;32m     52\u001b[0m \u001b[1;33m\u001b[0m\u001b[0m\n\u001b[0;32m     53\u001b[0m             \u001b[1;31m# Update target locations.\u001b[0m\u001b[1;33m\u001b[0m\u001b[1;33m\u001b[0m\u001b[1;33m\u001b[0m\u001b[0m\n\u001b[1;32m---> 54\u001b[1;33m             \u001b[0minp\u001b[0m \u001b[1;33m=\u001b[0m \u001b[0mtask\u001b[0m\u001b[1;33m(\u001b[0m\u001b[0mhand\u001b[0m\u001b[1;33m)\u001b[0m\u001b[1;33m\u001b[0m\u001b[1;33m\u001b[0m\u001b[0m\n\u001b[0m\u001b[0;32m     55\u001b[0m \u001b[1;33m\u001b[0m\u001b[0m\n\u001b[0;32m     56\u001b[0m         \u001b[1;31m# Compute loss, and do backprop.\u001b[0m\u001b[1;33m\u001b[0m\u001b[1;33m\u001b[0m\u001b[1;33m\u001b[0m\u001b[0m\n",
      "\u001b[1;32m~\\anaconda3\\lib\\site-packages\\torch\\nn\\modules\\module.py\u001b[0m in \u001b[0;36m__call__\u001b[1;34m(self, *input, **kwargs)\u001b[0m\n\u001b[0;32m    548\u001b[0m             \u001b[0mresult\u001b[0m \u001b[1;33m=\u001b[0m \u001b[0mself\u001b[0m\u001b[1;33m.\u001b[0m\u001b[0m_slow_forward\u001b[0m\u001b[1;33m(\u001b[0m\u001b[1;33m*\u001b[0m\u001b[0minput\u001b[0m\u001b[1;33m,\u001b[0m \u001b[1;33m**\u001b[0m\u001b[0mkwargs\u001b[0m\u001b[1;33m)\u001b[0m\u001b[1;33m\u001b[0m\u001b[1;33m\u001b[0m\u001b[0m\n\u001b[0;32m    549\u001b[0m         \u001b[1;32melse\u001b[0m\u001b[1;33m:\u001b[0m\u001b[1;33m\u001b[0m\u001b[1;33m\u001b[0m\u001b[0m\n\u001b[1;32m--> 550\u001b[1;33m             \u001b[0mresult\u001b[0m \u001b[1;33m=\u001b[0m \u001b[0mself\u001b[0m\u001b[1;33m.\u001b[0m\u001b[0mforward\u001b[0m\u001b[1;33m(\u001b[0m\u001b[1;33m*\u001b[0m\u001b[0minput\u001b[0m\u001b[1;33m,\u001b[0m \u001b[1;33m**\u001b[0m\u001b[0mkwargs\u001b[0m\u001b[1;33m)\u001b[0m\u001b[1;33m\u001b[0m\u001b[1;33m\u001b[0m\u001b[0m\n\u001b[0m\u001b[0;32m    551\u001b[0m         \u001b[1;32mfor\u001b[0m \u001b[0mhook\u001b[0m \u001b[1;32min\u001b[0m \u001b[0mself\u001b[0m\u001b[1;33m.\u001b[0m\u001b[0m_forward_hooks\u001b[0m\u001b[1;33m.\u001b[0m\u001b[0mvalues\u001b[0m\u001b[1;33m(\u001b[0m\u001b[1;33m)\u001b[0m\u001b[1;33m:\u001b[0m\u001b[1;33m\u001b[0m\u001b[1;33m\u001b[0m\u001b[0m\n\u001b[0;32m    552\u001b[0m             \u001b[0mhook_result\u001b[0m \u001b[1;33m=\u001b[0m \u001b[0mhook\u001b[0m\u001b[1;33m(\u001b[0m\u001b[0mself\u001b[0m\u001b[1;33m,\u001b[0m \u001b[0minput\u001b[0m\u001b[1;33m,\u001b[0m \u001b[0mresult\u001b[0m\u001b[1;33m)\u001b[0m\u001b[1;33m\u001b[0m\u001b[1;33m\u001b[0m\u001b[0m\n",
      "\u001b[1;32m<ipython-input-7-3e96441d4ae9>\u001b[0m in \u001b[0;36mforward\u001b[1;34m(self, hand)\u001b[0m\n\u001b[0;32m     35\u001b[0m             (hx - self.curr_tgx) ** 2 + (hy - self.curr_tgy) ** 2)\n\u001b[0;32m     36\u001b[0m         dist_to_next = torch.sqrt(\n\u001b[1;32m---> 37\u001b[1;33m             (hx - self.next_tgx) ** 2 + (hy - self.next_tgy) ** 2)\n\u001b[0m\u001b[0;32m     38\u001b[0m \u001b[1;33m\u001b[0m\u001b[0m\n\u001b[0;32m     39\u001b[0m         \u001b[1;31m# Reach period\u001b[0m\u001b[1;33m\u001b[0m\u001b[1;33m\u001b[0m\u001b[1;33m\u001b[0m\u001b[0m\n",
      "\u001b[1;31mKeyboardInterrupt\u001b[0m: "
     ]
    }
   ],
   "source": [
    "## TRAIN NETWORK ##\n",
    "\n",
    "losses = []\n",
    "\n",
    "for epoch in range(N_TRAIN_EPOCHS):\n",
    "\n",
    "    hand_dynamics.teacher_scale = BETAS[epoch]\n",
    "    rnn.alpha = ALPHAS[epoch]\n",
    "    \n",
    "    for k in range(N_TRAIN_STEPS):\n",
    "\n",
    "        # randomize hand position (no velocity).\n",
    "        hand_dynamics.initialize(SCREEN_SIZE / 2, SCREEN_SIZE / 2)\n",
    "        hand, _, teach_signal = hand_dynamics(\n",
    "            torch.zeros(2),\n",
    "            torch.tensor([TARGET_SEQUENCE_CO[0,0], TARGET_SEQUENCE_CO[0,1]]) # initial \"target\"\n",
    "        )\n",
    "\n",
    "        # Initialize task.\n",
    "        hidden = None\n",
    "        task = CenterOutTask(hand, SCREEN_SIZE, MIN_DELAY, MAX_DELAY, MOVE_TARG_THRES, HOLD_TARG_THRES, PADDING)\n",
    "        inp = task(hand)\n",
    "\n",
    "        # Allocate storage\n",
    "        inp_hist = torch.empty(SEQLEN, INPUT_SIZE)\n",
    "        acc_hist = torch.empty(SEQLEN, OUT_SIZE)\n",
    "        hidden_hist = torch.empty(SEQLEN, N_NEURONS)\n",
    "        \n",
    "        # Zero out the gradient\n",
    "        optimizer.zero_grad()\n",
    "\n",
    "        loss = torch.tensor([0.0])\n",
    "\n",
    "        # Now simulate the trial\n",
    "        for t in range(SEQLEN):\n",
    "            # Update the RNN activity\n",
    "            acc, hidden = rnn(inp, teach_signal, hidden)\n",
    "\n",
    "            if inp[0, 0] > 0.1:\n",
    "                active_target = inp[0, 5:7] # go cue on\n",
    "            else:\n",
    "                active_target = inp[0, 3:5] # go cue off\n",
    "\n",
    "            # Update hand position one time step\n",
    "            hand, teach_loss, teach_signal = hand_dynamics(acc, active_target)\n",
    "            loss += teach_loss\n",
    "            \n",
    "            # Store outputs\n",
    "            inp_hist[t] = inp\n",
    "            acc_hist[t] = acc\n",
    "            hidden_hist[t] = hidden\n",
    "            \n",
    "            # Update target locations.\n",
    "            inp = task(hand)\n",
    "            \n",
    "        # Compute loss, and do backprop.\n",
    "    #     loss = crit(inp_hist, acc_hist)\n",
    "        loss.backward()\n",
    "        losses.append(loss.item())\n",
    "\n",
    "        # Update the weights\n",
    "        optimizer.step()\n",
    "        \n",
    "        # Save the rnn model\n",
    "        torch.save(rnn, './CenteroutModelResults-{}Epochs/MonkRNN_TrainedModel_CenteroutEpoch{}.pt'.format(N_TRAIN_EPOCHS, epoch))\n",
    "        torch.save(hand_dynamics, './CenteroutModelResults-{}Epochs/MonkRNN_TrainingHandDynamics_CenteroutEpoch{}.pt'.format(N_TRAIN_EPOCHS, epoch))\n",
    "        # Save neuron firing rates\n",
    "        torch.save(hidden_hist, './CenteroutModelResults-{}Epochs/neuronFiringRatesTraining_MonkRNN_CenteroutEpoch{}.pt'.format(N_TRAIN_EPOCHS, epoch))\n",
    "        # Save target locations, hand positions and accelerations of each step in the last epoch\n",
    "        torch.save(inp_hist, './CenteroutModelResults-{}Epochs/handPositionsTraining_MonkRNN_CenteroutEpoch{}.pt'.format(N_TRAIN_EPOCHS, epoch))\n",
    "        torch.save(acc_hist, './CenteroutModelResults-{}Epochs/handAccTraining_MonkRNN_CenteroutEpoch{}.pt'.format(N_TRAIN_EPOCHS, epoch))\n",
    "        if (k % PRINT_EVERY) == 0:\n",
    "            print(\"Epoch {}, Step {}, Loss {}\".format(epoch, k, losses[-1]))\n",
    "    #         print(\"inputs {}, acc {}\".format(inp_hist, acc_hist))\n",
    "    #         plt.plot(np.array(inp_hist[:,1]),np.array(inp_hist[:,2]), color = colors[plot_ind], label=k) \n",
    "    #         plt.plot(inp_hist[1,5],inp_hist[1,6],'.',markersize=10, color = colors[plot_ind])\n",
    "    #         plot_ind +=1\n",
    "\n",
    "# Save losses of each step in all training epochs\n",
    "torch.save(losses, './CenteroutModelResults-{}Epochs/lossesTraining_MonkRNN_CenteroutEpoch{}.pt'.format(N_TRAIN_EPOCHS, epoch))\n",
    "torch.save(TARGET_SEQUENCE, './CenteroutModelResults-{}Epochs/targetSequence_100Targets.pt'.format(N_TRAIN_EPOCHS))"
   ]
  },
  {
   "cell_type": "code",
   "execution_count": null,
   "metadata": {
    "colab": {},
    "colab_type": "code",
    "id": "XlP3qjgXKDkR",
    "outputId": "cb216e49-0fca-4bca-d485-e026880e69cf"
   },
   "outputs": [
    {
     "data": {
      "image/png": "[encoded data removed]",
      "text/plain": [
       "<Figure size 432x288 with 1 Axes>"
      ]
     },
     "metadata": {
      "needs_background": "light",
      "tags": []
     },
     "output_type": "display_data"
    }
   ],
   "source": [
    "plt.plot(losses[50:],'.') \n",
    "plt.yscale('log')\n",
    "plt.show()"
   ]
  },
  {
   "cell_type": "code",
   "execution_count": null,
   "metadata": {
    "colab": {},
    "colab_type": "code",
    "id": "UwyP1xEpKDkT",
    "outputId": "171649cf-8d54-4423-e7ae-6859ca7bea40"
   },
   "outputs": [
    {
     "data": {
      "image/png": "[encoded data removed]",
      "text/plain": [
       "<Figure size 432x288 with 1 Axes>"
      ]
     },
     "metadata": {
      "needs_background": "light",
      "tags": []
     },
     "output_type": "display_data"
    }
   ],
   "source": [
    "plt.plot(np.array(inp_hist[:,1]),np.array(inp_hist[:,2]), 'r', label=k) \n",
    "plt.plot(inp_hist[:,5].detach().numpy(),inp_hist[:,6].detach().numpy(),'k.')\n",
    "\n",
    "plt.show()"
   ]
  },
  {
   "cell_type": "code",
   "execution_count": null,
   "metadata": {
    "colab": {},
    "colab_type": "code",
    "id": "mnatvOH5KDkV",
    "outputId": "22ad7089-b426-4c4e-8f1c-a2f10efe9450"
   },
   "outputs": [
    {
     "data": {
      "text/plain": [
       "[<matplotlib.lines.Line2D at 0x119fda8d0>,\n",
       " <matplotlib.lines.Line2D at 0x11abd6470>]"
      ]
     },
     "execution_count": 36,
     "metadata": {
      "tags": []
     },
     "output_type": "execute_result"
    },
    {
     "data": {
      "image/png": "[encoded data removed]",
      "text/plain": [
       "<Figure size 432x288 with 1 Axes>"
      ]
     },
     "metadata": {
      "needs_background": "light",
      "tags": []
     },
     "output_type": "display_data"
    }
   ],
   "source": [
    "plt.plot(acc_hist.detach().numpy())"
   ]
  },
  {
   "cell_type": "code",
   "execution_count": null,
   "metadata": {
    "colab": {},
    "colab_type": "code",
    "id": "NE-FJwehKDkX",
    "outputId": "e3c95e2a-acb1-4ca9-9ed1-b045932f36d8"
   },
   "outputs": [
    {
     "data": {
      "text/plain": [
       "[<matplotlib.lines.Line2D at 0x11afcbcf8>]"
      ]
     },
     "execution_count": 37,
     "metadata": {
      "tags": []
     },
     "output_type": "execute_result"
    },
    {
     "data": {
      "image/png": "[encoded data removed]",
      "text/plain": [
       "<Figure size 432x288 with 1 Axes>"
      ]
     },
     "metadata": {
      "needs_background": "light",
      "tags": []
     },
     "output_type": "display_data"
    }
   ],
   "source": [
    "plt.plot(hidden_hist[:,201].detach().numpy())"
   ]
  },
  {
   "cell_type": "code",
   "execution_count": null,
   "metadata": {
    "colab": {},
    "colab_type": "code",
    "id": "t-f4mL6PKDkZ"
   },
   "outputs": [],
   "source": [
    "epoch = 2\n",
    "rnn = torch.load('./CenteroutModelResults-20Epochs/MonkRNN_TrainedModel_CenteroutEpoch{}.pt'.format(epoch))\n",
    "hand_dynamics = torch.load('./CenteroutModelResults-20Epochs/MonkRNN_TrainingHandDynamics_CenteroutEpoch{}.pt'.format(epoch))"
   ]
  },
  {
   "cell_type": "code",
   "execution_count": null,
   "metadata": {
    "colab": {},
    "colab_type": "code",
    "id": "NPdhhIhjKDkb",
    "outputId": "fb31677c-4e05-4cad-ccfd-02c5bd84f29f"
   },
   "outputs": [
    {
     "data": {
      "image/png": "[encoded data removed]",
      "text/plain": [
       "<Figure size 432x288 with 1 Axes>"
      ]
     },
     "metadata": {
      "needs_background": "light",
      "tags": []
     },
     "output_type": "display_data"
    }
   ],
   "source": [
    "## TEST NETWORK ON NEW INPUTS THE SAME CENTEROUT TASK##\n",
    "\n",
    "N_TEST = 50\n",
    "TEST_SEQLEN = 2000\n",
    "hand_dynamics.teacher_scale = 0\n",
    "rnn.alpha = 0.005\n",
    "losses_test = []\n",
    "crit = PinballCriterion(ACC_PENALTY)\n",
    "\n",
    "for n in range(N_TEST):\n",
    "    \n",
    "    # randomize hand position (no velocity).\n",
    "    hand_dynamics.initialize(SCREEN_SIZE / 2, SCREEN_SIZE / 2)\n",
    "    hand, _, teach_signal = hand_dynamics(\n",
    "        torch.zeros(2),\n",
    "        torch.tensor([SCREEN_SIZE / 2, SCREEN_SIZE / 2]) # initial \"target\"\n",
    "    )\n",
    "\n",
    "    # Initialize task.\n",
    "    hidden = None\n",
    "    task = CenterOutTask(hand, SCREEN_SIZE, MIN_DELAY, MAX_DELAY, MOVE_TARG_THRES, HOLD_TARG_THRES, PADDING)\n",
    "    inp = task(hand)\n",
    "\n",
    "    # Allocate storage\n",
    "    inp_hist_test = torch.empty(TEST_SEQLEN, 7)\n",
    "    acc_hist_test = torch.empty(TEST_SEQLEN, 2)\n",
    "    hidden_hist_test = torch.empty(TEST_SEQLEN, N_NEURONS)\n",
    "    teach_signal_hist = torch.empty(TEST_SEQLEN, 2)\n",
    "    loss = torch.tensor([0.0])\n",
    "\n",
    "    # Now simulate the trial\n",
    "    for t in range(TEST_SEQLEN):\n",
    "\n",
    "        # Update the RNN activity\n",
    "        acc, hidden = rnn(inp, teach_signal, hidden)\n",
    "\n",
    "        if inp[0, 0] > 0.1:\n",
    "            active_target = inp[0, 5:7] # go cue on\n",
    "        else:\n",
    "            active_target = inp[0, 3:5] # go cue off\n",
    "\n",
    "        # Update hand position one time step\n",
    "        hand, teach_loss, teach_signal = hand_dynamics(acc, active_target)\n",
    "        loss += teach_loss\n",
    "        # Store outputs\n",
    "        inp_hist_test[t] = inp\n",
    "        acc_hist_test[t] = acc\n",
    "        hidden_hist_test[t] = hidden\n",
    "        teach_signal_hist[t] = teach_signal\n",
    "\n",
    "        # Update target locations.\n",
    "        inp = task(hand)\n",
    "    losses_test.append(loss.item())\n",
    "\n",
    "hx = inp_hist_test[:, 1].detach().numpy()\n",
    "hy = inp_hist_test[:, 2].detach().numpy()\n",
    "\n",
    "active_targ = crit.get_active_target(inp_hist_test)\n",
    "tx = active_targ[:, 0].detach().numpy()\n",
    "ty = active_targ[:, 1].detach().numpy()\n",
    "\n",
    "plt.figure()\n",
    "plt.plot(hx, hy, '.-b')\n",
    "plt.plot(tx, ty, 'or')\n",
    "plt.xlim([0, SCREEN_SIZE])\n",
    "plt.ylim([0, SCREEN_SIZE])\n",
    "\n",
    "# Save neuron firing rates\n",
    "torch.save(hidden_hist_test, './CenteroutModelResults-{}Epochs/neuronFiringRatesTest_MonkRNN_Centerout_Alpha0005_Epoch{}.pt'.format(N_TRAIN_EPOCHS, epoch))\n",
    "torch.save(inp_hist_test, './CenteroutModelResults-{}Epochs/handPositionsTest_MonkRNN_Centerout_Alpha0005_Epoch{}.pt'.format(N_TRAIN_EPOCHS, epoch))\n",
    "torch.save(acc_hist_test, './CenteroutModelResults-{}Epochs/handAccTest_MonkRNN_Centerout_Alpha0005_Epoch{}.pt'.format(N_TRAIN_EPOCHS, epoch))\n",
    "torch.save(teach_signal_hist, './CenteroutModelResults-{}Epochs/teach_signal_Test_MonkRNN_Centerout_Alpha0005_Epoch{}.pt'.format(N_TRAIN_EPOCHS, epoch))\n",
    "torch.save(losses_test, './CenteroutModelResults-{}Epochs/lossesTest_MonkRNN_Centerout_Alpha0005_Epoch{}.pt'.format(N_TRAIN_EPOCHS, epoch))"
   ]
  },
  {
   "cell_type": "code",
   "execution_count": null,
   "metadata": {
    "colab": {},
    "colab_type": "code",
    "id": "n0vR3xR1KDke",
    "outputId": "67d6911c-e4ab-4c7b-d645-7c656d15bbce"
   },
   "outputs": [
    {
     "data": {
      "text/plain": [
       "203.41021804809571"
      ]
     },
     "execution_count": 44,
     "metadata": {
      "tags": []
     },
     "output_type": "execute_result"
    }
   ],
   "source": [
    "np.mean(losses_test)"
   ]
  },
  {
   "cell_type": "code",
   "execution_count": null,
   "metadata": {
    "colab": {},
    "colab_type": "code",
    "id": "11H01-PbKDkg"
   },
   "outputs": [],
   "source": [
    "epoch = 12\n",
    "rnn = torch.load('./CenteroutModelResults-20Epochs/MonkRNN_TrainedModel_CenteroutEpoch{}.pt'.format(epoch))\n",
    "hand_dynamics = torch.load('./CenteroutModelResults-20Epochs/MonkRNN_TrainingHandDynamics_CenteroutEpoch{}.pt'.format(epoch))"
   ]
  },
  {
   "cell_type": "code",
   "execution_count": null,
   "metadata": {
    "colab": {},
    "colab_type": "code",
    "id": "avelyoX7KDki",
    "outputId": "d792f580-cecc-41c1-d51c-32b7877eb5a9"
   },
   "outputs": [
    {
     "data": {
      "image/png": "[encoded data removed]",
      "text/plain": [
       "<Figure size 432x288 with 1 Axes>"
      ]
     },
     "metadata": {
      "needs_background": "light",
      "tags": []
     },
     "output_type": "display_data"
    }
   ],
   "source": [
    "## TEST NETWORK ON NEW INPUTS FOR A PINBALL TASK, WITH TARGET_SEQUENCE AS THE RANDOM TARGET LOCATIONS##\n",
    "\n",
    "N_TEST = 50\n",
    "TEST_SEQLEN = 2000\n",
    "hand_dynamics.teacher_scale = 0\n",
    "rnn.alpha = 0.08\n",
    "losses_test = []\n",
    "crit = PinballCriterion(ACC_PENALTY)\n",
    "\n",
    "for n in range(N_TEST):\n",
    "    \n",
    "    # randomize hand position (no velocity).\n",
    "    hand_dynamics.initialize(SCREEN_SIZE / 2, SCREEN_SIZE / 2)\n",
    "    hand, _, teach_signal = hand_dynamics(\n",
    "        torch.zeros(2),\n",
    "        torch.tensor([SCREEN_SIZE / 2, SCREEN_SIZE / 2]) # initial \"target\"\n",
    "    )\n",
    "\n",
    "    # Initialize task.\n",
    "    hidden = None\n",
    "    task = PinballTask(hand, SCREEN_SIZE, MIN_DELAY, MAX_DELAY, MOVE_TARG_THRES, HOLD_TARG_THRES, PADDING)\n",
    "    inp = task(hand)\n",
    "\n",
    "    # Allocate storage\n",
    "    inp_hist_test = torch.empty(TEST_SEQLEN, 7)\n",
    "    acc_hist_test = torch.empty(TEST_SEQLEN, 2)\n",
    "    hidden_hist_test = torch.empty(TEST_SEQLEN, N_NEURONS)\n",
    "    teach_signal_hist = torch.empty(TEST_SEQLEN, 2)\n",
    "    loss = torch.tensor([0.0])\n",
    "    # Now simulate the trial\n",
    "    for t in range(TEST_SEQLEN):\n",
    "\n",
    "        # Update the RNN activity\n",
    "        acc, hidden = rnn(inp, teach_signal, hidden)\n",
    "\n",
    "        if inp[0, 0] > 0.1:\n",
    "            active_target = inp[0, 5:7] # go cue on\n",
    "        else:\n",
    "            active_target = inp[0, 3:5] # go cue off\n",
    "\n",
    "        # Update hand position one time step\n",
    "        hand, teach_loss, teach_signal = hand_dynamics(acc, active_target)\n",
    "        loss += teach_loss\n",
    "\n",
    "        # Store outputs\n",
    "        inp_hist_test[t] = inp\n",
    "        acc_hist_test[t] = acc\n",
    "        hidden_hist_test[t] = hidden\n",
    "        teach_signal_hist[t] = teach_signal\n",
    "\n",
    "        # Update target locations.\n",
    "        inp = task(hand)\n",
    "    losses_test.append(loss.item())\n",
    "\n",
    "hx = inp_hist_test[:, 1].detach().numpy()\n",
    "hy = inp_hist_test[:, 2].detach().numpy()\n",
    "\n",
    "active_targ = crit.get_active_target(inp_hist_test)\n",
    "tx = active_targ[:, 0].detach().numpy()\n",
    "ty = active_targ[:, 1].detach().numpy()\n",
    "\n",
    "plt.figure()\n",
    "plt.plot(hx, hy, '.-b')\n",
    "plt.plot(tx, ty, 'or')\n",
    "plt.xlim([0, SCREEN_SIZE])\n",
    "plt.ylim([0, SCREEN_SIZE])\n",
    "\n",
    "# Save neuron firing rates\n",
    "# torch.save(hidden_hist_test, './CenteroutModelResults-{}Epochs/neuronFiringRatesTest_MonkRNN_Pinball_Alpha010_Epoch{}.pt'.format(N_TRAIN_EPOCHS, epoch))\n",
    "# torch.save(inp_hist_test, './CenteroutModelResults-{}Epochs/handPositionsTest_MonkRNN_Pinball_Alpha010_Epoch{}.pt'.format(N_TRAIN_EPOCHS, epoch))\n",
    "# torch.save(acc_hist_test, './CenteroutModelResults-{}Epochs/handAccTest_MonkRNN_Pinball_Alpha010_Epoch{}.pt'.format(N_TRAIN_EPOCHS, epoch))\n",
    "# torch.save(teach_signal_hist, './CenteroutModelResults-{}Epochs/teach_signal_Test_MonkRNN_Pinball_Alpha010_Epoch{}.pt'.format(N_TRAIN_EPOCHS, epoch))\n",
    "torch.save(losses_test, './CenteroutModelResults-{}Epochs/lossesTest_MonkRNN_Pinball_Alpha008_Epoch{}.pt'.format(N_TRAIN_EPOCHS, epoch))"
   ]
  },
  {
   "cell_type": "code",
   "execution_count": null,
   "metadata": {
    "colab": {},
    "colab_type": "code",
    "id": "smllYDcDKDkk",
    "outputId": "e7cd9258-c938-48e0-8851-62f672a49bd7"
   },
   "outputs": [
    {
     "data": {
      "text/plain": [
       "12240.601462402345"
      ]
     },
     "execution_count": 19,
     "metadata": {
      "tags": []
     },
     "output_type": "execute_result"
    }
   ],
   "source": [
    "np.mean(losses_test)"
   ]
  },
  {
   "cell_type": "code",
   "execution_count": null,
   "metadata": {
    "colab": {},
    "colab_type": "code",
    "id": "f2b_EWPzKDkm",
    "outputId": "02cf694b-9108-413f-ba03-a1ef737535d0"
   },
   "outputs": [
    {
     "data": {
      "text/plain": [
       "<matplotlib.legend.Legend at 0x105e3a470>"
      ]
     },
     "execution_count": 20,
     "metadata": {
      "tags": []
     },
     "output_type": "execute_result"
    },
    {
     "data": {
      "image/png": "[encoded data removed]",
      "text/plain": [
       "<Figure size 720x360 with 2 Axes>"
      ]
     },
     "metadata": {
      "needs_background": "light",
      "tags": []
     },
     "output_type": "display_data"
    }
   ],
   "source": [
    "fig, axes = plt.subplots(1, 2, figsize=(10, 5))\n",
    "\n",
    "for k, ax in enumerate(axes):\n",
    "    ax.plot(acc_hist_test.detach().numpy()[0:501, k], label='network')\n",
    "    ax.plot(teach_signal_hist.detach().numpy()[0:501, k], label='teacher')\n",
    "axes[-1].legend()"
   ]
  },
  {
   "cell_type": "code",
   "execution_count": null,
   "metadata": {
    "colab": {},
    "colab_type": "code",
    "id": "z6NqLeGTKDko",
    "outputId": "71767689-50ac-4a25-833d-f6d0bb1682f3"
   },
   "outputs": [
    {
     "data": {
      "text/plain": [
       "[<matplotlib.lines.Line2D at 0x1267045c0>]"
      ]
     },
     "execution_count": 65,
     "metadata": {
      "tags": []
     },
     "output_type": "execute_result"
    },
    {
     "data": {
      "image/png": "[encoded data removed]",
      "text/plain": [
       "<Figure size 432x288 with 1 Axes>"
      ]
     },
     "metadata": {
      "needs_background": "light",
      "tags": []
     },
     "output_type": "display_data"
    }
   ],
   "source": [
    "plt.plot(hidden_hist_test[0:501,2].detach().numpy())"
   ]
  },
  {
   "cell_type": "code",
   "execution_count": null,
   "metadata": {
    "colab": {},
    "colab_type": "code",
    "id": "r4xn9hmAKDkq"
   },
   "outputs": [],
   "source": []
  }
 ],
 "metadata": {
  "colab": {
   "collapsed_sections": [],
   "name": "teacher-CenteroutTraining.ipynb",
   "provenance": []
  },
  "kernelspec": {
   "display_name": "Python 3",
   "language": "python",
   "name": "python3"
  },
  "language_info": {
   "codemirror_mode": {
    "name": "ipython",
    "version": 3
   },
   "file_extension": ".py",
   "mimetype": "text/x-python",
   "name": "python",
   "nbconvert_exporter": "python",
   "pygments_lexer": "ipython3",
   "version": "3.7.4"
  }
 },
 "nbformat": 4,
 "nbformat_minor": 4
}
